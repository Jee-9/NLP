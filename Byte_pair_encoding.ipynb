{
  "nbformat": 4,
  "nbformat_minor": 0,
  "metadata": {
    "colab": {
      "name": "Byte_pair_encoding.ipynb",
      "provenance": [],
      "collapsed_sections": [],
      "authorship_tag": "ABX9TyPW8OIqFOGRk7oVM3IFAWtc",
      "include_colab_link": true
    },
    "kernelspec": {
      "name": "python3",
      "display_name": "Python 3"
    },
    "language_info": {
      "name": "python"
    }
  },
  "cells": [
    {
      "cell_type": "markdown",
      "metadata": {
        "id": "view-in-github",
        "colab_type": "text"
      },
      "source": [
        "<a href=\"https://colab.research.google.com/github/Jee-9/NLP/blob/main/Byte_pair_encoding.ipynb\" target=\"_parent\"><img src=\"https://colab.research.google.com/assets/colab-badge.svg\" alt=\"Open In Colab\"/></a>"
      ]
    },
    {
      "cell_type": "markdown",
      "source": [
        "# Background Theory\n",
        "### - OOV Problem\n",
        "- Out of Vocabulary </br>\n",
        ": 아무리 많은 단어를 학습시켜도 모든 단어를 학습시킬 수는 없음</br>\n",
        "Out of Vocabulary 또는 UNK(Unknown Token)을 처리해 줘야 한다. </br>\n",
        "\n",
        "### - Subword Seperation\n",
        "- 하나의 단어는 더 작은 단위의 이미있는 서브워드로 이루어져 있음 </br>\n",
        "ex) birthplace = birty + place </br>\n",
        "- 가장 대표적인 알고리즘이 BPE이고, 이를 실무에서 사용할 수 있도록 구현한 것이 Sentencepiece"
      ],
      "metadata": {
        "id": "jgtg230eBYJA"
      }
    },
    {
      "cell_type": "markdown",
      "source": [
        "# Byte Pair Encoding\n",
        "\n",
        "- 기존의 접근\n",
        "훈련 데이터로부터 각 단어의 빈도수 카운트 </br>\n",
        "ex) low:5, lower:2, newest:3, widest:3\n",
        "\n",
        "- BPE 알고리즘을 사용한 경우의 접근\n",
        "\n",
        "![캡처.PNG](data:image/png;base64,iVBORw0KGgoAAAANSUhEUgAAAbMAAAF1CAYAAABiXAQuAAAAAXNSR0IArs4c6QAAAARnQU1BAACxjwv8YQUAAAAJcEhZcwAADsMAAA7DAcdvqGQAAGFBSURBVHhe7Z0HmBRFE4Z/zDknzBEVTAiCASMoZlRUFAMoJgwoJgyAiCJiAhPBhIqACkiWoIiCggGRrKggQUUEBATE3P++ddPn3Nzc3V7Yu9u97+Wph53cPbtX31R3Tff/nBBCCJHmSMyEEEKkPRIzIYQQaY/ETAghRNojMRNCCJH2SMyEEEKkPRIzIYQQaY/ETAghRNojMRNCCJH2SMyEEEKkPRIzIYQQaY/ETAghRNojMRNCCJH2SMyEEEKkPRIzIYQQaY/ETAghRNojMRNCCJH2SMxEofnzzz/dr7/+GixlJv/8849bunSp++uvv4I1hYdjOQfnEkKkFolZMfntt9/cF1984T7++GP3ySefuMmTJ7tPP/00exlnVljmzp3revXq5VavXh2syZ+vv/7a9e7d261duzZYk1oGDRrkTj311FK7Xlnwww8/uJNOOsl98MEHwZrCM27cOHfmmWe6b7/9NlgjhEgVErNiMmvWLHfssce6Aw44wO23335unXXWcbvuuqurWrWqO/DAA90bb7wR7Jk8r7/+uttnn33cvHnzgjX507NnT1elShX3008/BWtSS/fu3d22227r1qxZE6zJm7///tv179/fzZw5M1iTHsyZM8dts802JtxFhWN33313N23atGCNECJVSMyKCU1uCxYsMOdHJLbuuuu6bt26ue+++84irGQcfhSOQcgQgmRYtWqVmz9/fqk1Z7344otu5513TlrMcOhdunQJ1qQHfHc77bSTGzZsWLCm8AwZMsTtu+++bvr06cEaIUSqkJiVIMuWLXPrr7++Gzx4cLDGuW+++cY999xzFsHdfPPN7qmnnrLmOZoh27Zt65o2beruueceN3Xq1OCIrKjgmWeeMZGCfv36WZPVxIkT3e233277hyOdL7/80nXt2tWaPKFv37627/jx492tt97qWrdu7b766ivbBoje8OHD3Y033uiuueYa1759e3ffffdZmeKgqfTJJ590N9xwg3vttdesbLvssku2mFH2hx56yF1xxRVWvo8++sjWL1myxHXs2NFtvfXW7pRTTrH6+mtQn3vvvdfq365dO6tDHNy7t99+O1jK4sMPP3TPPvtssOTsepybujzxxBPu+++/D7ZksXDhQvfII4+4Zs2auQcffNAeNADBQmRZf8stt5j4+AcCtiHY3EvEm3OzL98xINI0BYfLxvf66KOP2ncNUTFjfadOnbLv05gxY2w9/Pjjj3ZfZ8+e7e688067n9yjp59+2v3yyy/BXln3lHKo6VKInEjMShCa+RCzt956K1jj7PNmm23mjjjiCFe/fn3Xpk0bE7jjjz/eXXnlleb8TjzxRGui9E54wIABbvPNN89uZjz33HPdnnvu6Y477jh37bXXuoMPPthVq1bNLV682La/+uqrJhi+mRHhwImy/3XXXWdNoNWrV3fLly+37TT7IUaISMuWLd3//vc/Kw8CGIXI86yzzrLo6vrrr3d16tRxu+22m9t7771NPNlOv1CjRo2sLpS1cuXKJnA4/jvuuMPqcvTRR7urr77ahAeHTX8UdcG516pVyx122GFuxYoVwVX/o3Hjxnbv/Daux30877zzbBmxIYK68MILTeSpa82aNU3AAJFgmXNw70844QSrM0J80003udNOO82Eju+Cco4YMcKOQ8xoLt5///2tfuxL0+oFF1xgiR1//PGHnYvjPAgN56D/EryY8eDB9S699FK7P9wnzrPddtu5zz77zPYlqt9iiy2snJyXhxCOX2+99ex/z5tvvuk22mijbEEWQmQhMStB4sQMR7Thhhta5OPBIYeftjluk002yW7Soq9lhx12sKZDuOiii0xAwk/4ODS/f58+fSyK8OJ29tlnmxNFNOHzzz93G2ywgXvvvfds+YwzzrAoy4OzJvKIgwiOvqP333/flsliZH/EDQf977//mhP3sIxQElEATh+hJiL1cJyPOoEEGo4JRyoeokvK7iM6RGbTTTd177zzjpWFfkkcvwcnv/3221sEBh06dHB77bWXiRr8/vvv9pCAIIW/AyCp5aqrrrLPXGfHHXe0KIrvC4iQt9pqK7uP1BNR5WHBQwTL90afJ4QjM/YPX49yIFxElICoIYRc32dQEiUec8wxFr365YsvvtgEUQiRE4lZCRInZggTT/heWDw4LBx1jx493P33329P5f6JPipmDRs2dJdddpl9Bq5DBMKxEBUznHLz5s3tM9Cnh1OlWQyIds455xzLlkRs6tata02OONwoONsaNWrkEB8STsJ9Zhw3adIk98ILL1jUQaREMxkQvSFm0T4znPnYsWOtDjSrcUxcsgXXJZmGplJAFFkmykTgEFUv0kBZEH8iLuD/8L2LQvPmyy+/7Dp37uwOPfRQOxYQM8qEmHsQbaIzEmCgMGIGlG3KlCnWbMl9IsnHCzEZsBzrm2g99L9yTSJTzk80588vhPgPiVkJkpeYEVXhHD04JqInnsxpusNoisxPzC655BL7DIgWzYz0sUCcmIUjLZrcaC576aWXbJmoieYrmvrq1avnDjnkEHulIA76kmrXrp0dnQDn4XoIFWJINHHQQQeZY6cJD4cbFTP63DykvVNGmh4RUZrqiKbixAwQVLI16ZOiOZS+Rxg1apTdW4Q0DOej6RaOPPJIa96MQrmJ2igb0ddtt91m94jIB+LEjLpQTt9fFxUzBDZOzGbMmGHHIlw8hFAePvOQw3UBMSMSpLkxDK9d7LHHHtacihGJRvsEhRASsxIlPzEjqcNDnxjNVT7pAUfHPj5ySlbMvFNNVsyIQICmKwQCZ0sfDOKSF4899pg5ZN8HBSSM0CyIIOCEqcu7774bbHXWP+eb+RAghOjxxx+3ZSCy2XLLLbP78Dg3+3Bf4iBaoc+Qc+DMfSRGyjvl8PcNuB59ZF7wiLQQbd90BwgzzZGUgYQWD/f4/PPPt89ezJ5//nlbBgQfoR44cKAt80BCX52HvjHuRVTMECT6EHlgCd8nHiRatGhhn72YRZNwaFrk+6ePkP8RXiFEbiRmJQhiVqlSpRxOGceH0ISzz4YOHWrvo+FIeWonSYIkDB+ZcQz9VD4BhCZB3/wFiBZP+L5fiuNwhF7MTj755Oy+H0AscKo+MqOZkSY1khqIjBA2MufiIFkDB030iKMlGuRa9EMhZjSb0X9Hsxl9eSRTUBcfmSEiNGMSUSFClIVmSiJDki3oLyMRhH6xvCIzxIdzIAZEWv6VBRx9gwYNTODIKqTfiXtJMozPDqVfkWtRHsrPAwCJLzT78sBAhES5uTeIm4/MePhgO9ETGZX0GfKQwH3zL8KTcEITIKLFd0odeTXDv1tIViv3iXuI0NEnRnYnnxFm7puPzIjIEMq4JBzOT58qx8f1KwohJGYlCn0qRBAjR44M1mQ1hREp0G/loa8JB47A0ISHUJCU4SO60aNHW9Ofj5holkJ0PDhTmtFeeeUVW0YEDj/88GwnS9Yc/VAekh94sZsEBgSAqI3rkkmI+Jx++unmuBGWOMiWpDmOLEpEFUEg446IEmGhP4v+H7ISaeIjWgknfODUaSrjHJSBZlaSGojGECfKSpNd+L5FQVAoY/i8gDgizlyfe8b5uH++/w8xRTjIviSaJWuShw0Ekj4+jqO5l341UvR9pMT3xbloHuX7o6zsN2HCBNsOP//8syVjIFhsQxC5L4gPEIURBSOcXI97ze+Dffn+yQB94IEHbF/El/LHfQf0G3LveIAh8hRC5EZiVoLgQIlWEAwP60h2iAPx8QLEMf44/g8fgyPEwoSvg6AUtL/fTlRA6nx4mCYEgSa1cJNbFM4XzloMN9sBTYY+MgQfPXkQPraH17PsU+5Z7wUoLzhHXqxcuTLH9aNQf+oZLTdCQUTt8eWjLH5frssDQV7l4774+8t34vfj/+j3QH0RQY//DtmXc8Rdg/U0ExNRCiHikZhVMHDKRBn099DXRJRCtEUCB85elD9odqaZMa4JUgiRhcSsAkL2H++ZkVTAy7v0M5GkIMonJMzcdddd+UamQlR0JGYVmHCTmCi/RJtshRC5kZgJIYRIeyRmQggh0h6JmRBCiLSn1MXs33/pp5HJZLLc9k/ChCgKpSJmy39d5CZMHeCGjX/K9R11v+szqp1MJpPF2vCPuib8RX+3dIXGoBTJk1Ix+/ufv9zkr0a6h3qe51o8dqi7tXNNd0/XE919Peq7tj1OkclkshzWuttJCT9xhLvp0UPcwy+f7z6dOdz9/XfOF8+FiCNlYvZv4t/oT150t3WpnbAj3SvDW7n3J7/iZs0f575fMtMtXDJDJpPJQjbdfb1wQsJPvOp6vX23a/V0HXfLE4e7oeOzxiAVIj9SJmZfL/jM3fXMsRaFjZ/axy399Tu3fM33btmq+fZZJpPJorbs13lu+eosPzFxRj/X7rlT3Z1PHe2mfTM28CxCxJMSMfvr7z/dU280cy0713RjJr3kVvz2g/1Ql6ycK5PJZAUa/mLlbz8mHoR7uzueOtJ1eqWRW/v7fxPEChElJWL2w5JvXNvu9ROCdoVbtOyrxA9zXuwPViaTyfKzpb/OdU+/eZV1VSxa+t8Et0JESYmYTZw20LV8oobrP+Yht3z1gsSPUlGZTCYrvP2yar4b+MEjlhTy2cxhgYcRIjcpEbNRE59z13eq6oaO72JNBXE/UplMJivIflm90I2b8pq75fHDLaFMiLxIiZiN/vgFd0OnahIzmUxWLEPMPpz6uonZqIRfESIvJGYymazcWpaY9ZWYiQKRmMlksnJrEjORLBIzmUxWbk1iJpJFYlZIW7l2oVu2StmZ6WTLVuf/asjyNQsSTnN+7LZUGu9SrfhtoVuq31OeJjETySIxS9JwPD/8/JV7vufTbuY3n5SJ85MVzeb/OMP9vGJO7DbWDx/dz42bODLxkFJ670Pye5r3w3TX87Vu7qs5kwoU3IpqEjORLBKzJA3xmj33c/e///3PvTnwFbfqTzWflowxzNkCc+7x24tunHfipHfd0cfUcu9/9LZFQeHtiNfCxbPcsccf7a5odmki6v4+x/bCGoKU7EMO+334ySi31VZbugFDerlVf/wQu19FN4mZSBaJWZLmxaxSpXVcv0Gv5hAzHDHbo0/2LEeddHQftkebmdgnzinSvGn7J2z5moKdpr+WL1+0LN789cLb7Tox5YqeI64+eV2LdZTbH8N+3y6Y4g47/BD33rihCYee3G8l7prRpl/2QcymzPzQXdT4fDdp6vu2HN6+4rcFJmYnnHSsa3bN5TnEzNcjei1vbMP4zD6Ll3+bOMdl7v4H7rbfRlz9w8axH3062m2//bburaGv5RCzvK4dXc6qd+51BV07nUxiJpJFYpak4VyiYobTwAHiyCZN/cB9/d3koE8ty8HM/X6aW7Ts62znQpPW3IVT3c8rs5q8WP/jktnuux+mB9eYZ8d/+e1n7osZH9qTftgBzwuayxb+NMt9+sVY99Mv32RvizOuzzk5ZvKM8XYtHLjfzvV//f17NydRJsrP+awPJ7F+QeIaCxbNzK4L6yjnomXf5KgPx/K/P9f8xDGUza6VqIvfl+v+uHS2RUpfzZ1k95PjPv58jEW7L/fubtf8KXF+X744++mXb+2aS0L3kOZfruuvRZm5V9///KUtf5/Y/vOKrON9OfmuZiXu80+/fO1Oqnd8DjHjHlA27sm386fY/v7cXmT4fiZN+8DWc4+/mvOZq31UzYRwNkyUZUZCJLOunZfFiRnnWpm41qKlX7vPprzv5iSEnmtzPb4bfjvhc/yY2I96+rLx/4KfZppAh/dLZ5OYiWSRmCVpUTFbnRAz1nV/vrM7vOahrnoiujjo4ANdkysbu2/mf2GidObZ9d2td9xon3GQNE/uvc9ebvwnI81pLfl1rrvp5mvdFc0uSTitH+z8l15+oat5RHVXq3ZNV/fkE8z5E81gZ559qrvzrpsTzvc4t+9+e1tfT1icvOH8Zsz+2NU75UT3aOcH3Mn1T3QHHVLVyjjqvYFueeIY9sEZ3nVvS3d4jUNd7SNrulpH1nBvDOjp1v692HV85D53yqknmUNFUBGQA6vt7x7r/KDVhfL27d/THXJoNXOonK/Dw23sXEcedYQ7rPrBrmevZ209+w8Z+YY7+pjadh32efm17omyvGVlQsz2q7KPq1mrunv3gyHZohI17jeivN9++7gR7wywMiA6N7S42p1Y97hsYfkyISwnnFTHvdb3OTfj64/dPvvu5SYk7iP7I6i33Ha9O+DAKu6Qww5ylzVpZGW6+tqmdl0eIIaOeMMddUwtqwdlbdGyufthyVd23+gvPe+Cs90RtQ637+ma65raOeudcoLbfPPN3fY7bOdq1DzMPdCxdZ71wPISs8e6POgOPexgu27Vage462+6ykT5i0SEeexxR9k95byrEnW5vVULd1Ki3l/OmWT3GCE75rgjXY8XEn93id9c3HXTzSRmIlkkZklaVMz++HeJ6z+4l9ts883cvW1vdxM+e8f16tPD7bJrZXf5FRe7tf/87Jrf0Mwdckg1E7e1/yxOOMwm5rgRitV/LnJfz/vC7bb7rq7TY/e7NYnl8y9sYE/3OLlpX050Zzc43R1dp7ZFHTi7agcd6NZbb72EE7vJ9e33ojlqxCJ3Wee5qbM+cttuu43beeed3BNPPuRGjhngqlc/xB1/Yh1zzDj2Dp3uS1x/FzdoWJ9EWSa7O+++2e244w4mhMMS4rPlVlu4wW/3db8n6vLmWy9b2Y8/8RiLRBE46nn8CccknPxC1+35J1zlyju6115/zn2TqFfHR+9z222/jXtv/DArI+JwSUKoEUVEGFGd98MMqwfnfahTW/fO2EHuu0Q0GVenrHrNt2jzgAOqJATmOnugoJlyr732cBtutKHdN4T41b493E477WBNi0Q4nH/sh8PtO+jyTCe3ySYbuy5Pd3RvJwSxYUKY2H79TVe73xLbiSor71zZ3dX6VoveBg7tbfew46Pt7HjEH1H/bMpY27dXor4I6oh3E/c3IcxnnFXfjRrzlolPXvXAomL2x79L3XMvPem23HKLxENBW3uIee6lp9zWW29losW5EN3zL2jg1vy1yAQU0axUqVLifva3so/9cJjbOFE3ykJEF3fddDOJmUgWiVmSFhWzv90vrv5p9eyJHMfO0/Lv7mf3YOKJHBFBgIg8NtxwAzdm3FATmOMSjn/vffa0KAIxG/nuW4mn+c0STvE9a9LaPSEsT3d91JrzaFJCLHG0COVvf/+UiMb2cec2PMv9kojS6F/K2+nPc1MSYrb9Dtu7Rx5v737/92e39t/FrnviiX3rbbYyJ019iHAQBSIrRAFnuMuuO7uuzz1u59ltt11c2/tbub/cMtfy9hvcHnvuZuumJ8SOpjCWH+vSwf2aEFoiIRwtAsX5p86a4HaqnBCBhHBzrSOPruXOOe9Muw6igJhy3xA+6jg0IZ6/Jx4QfJNZnLGNCKTFLde6A6tWsc9jEpEckRcREQ8Ff7ql7sYW11qUidj5ZkwSQNYm7kOt2jXchRefZ84eUSDyJAoiMqNcDzzU2r4jhJCHEDIhG110nkViiPpd996aqPfulrxBHRARvgcE/qSTj7MHFu4330FcHbyFxYyHCX4/xyfuIfeIclE3vvM7Eg8YiOmyRN3vaX2bPdDwQED2JfUmQm/d7s7Eb2+Jla1W7cNtO+ePu266mcRMJIvELEkLi9mAhMjgwGlWvKb5FeYE2Yd+tD5vvmCOFWdH3wlRw8OJp/pxE0aY03z0iQesqZFzEWGRSceT/YAhr7mtEk/hhx12kDUn1UkYDnnHRIQxMSFma/76yZwsDgunHC1f2EzMEpHBzrtUdq/07m7lorz9Br7iNthgA2uGo0lq6222tuY9oqs6xx5pzWq7JI7p/kJnc6jNrr7MyoEwI9qtExEo0UC35ztnCV9i3w8S9UJ8D02Ue9ddd3HHJerDuY5JGFEeYrom4ZQHDu3j9tt/H7dPou5EsoiI7x9EbAYO620CHVefsLFPnzdftMjr48nvufva3+UuuOhcixJp/iPdnTK2e/Ae+168mFFOBGLXhBjf0+a2bBEiSqXP7KprLrd1TZtd4rbYcnN3TCIiph7Uh/t+6ml1TRwR8lPqn2QPBZdcdmEgat/beU6se6zds2QyE8NiNuTt1+0e8nu6u82t2clFq/9e5Hr26urWWaeSRaQffjLSbbrZphbVvvDyM/Y7oS4ILec74YQ67trE75EHpej10tUkZiJZJGZJWljM+icis98S4oIDx4nyBM0+a/76MeFknk5EZltbMx/OmsQCnGXnpzuaYyQyqVptf9ctESUhFPSBEU3wdF458QROc93n08aZE8a+mDHeOv95csep3pHYH6fL9ejfYT1zPuUs639i9tKrz5oAIGZvvpUQs0SkiICQmLLFllu4VvfcYlGUvx4RIgkEXjRo5uK4KvvvZ82PjRo3NCd+b9s7zNkvXj4nS8yqH+wua3KR1dufiyY+BJ1MQ+4FSRJdnn7YhIi+KvqgeMcKsRk0vE8OMUN4wskv3hAgorkq++/rHn6snTv7nNMtGub4vffe06JZ7j+RGN8L5cgSs7ftHuy+x67utjtvMoHlXDTXkc2ImCF+RFaHVT/I9idi5vhPEqJJOYkMKTMJJ/2H9HI1jqhuv4GZ33xq31GcmPG7ieu/CosZTbncc85FpMyDC/sgns90f8xtuukm9kBBWWnivKfN7a5J4nd3d+tb3fBR/dyeiUiRBxW+o/6Detm9i14vXU1iJpJFYpakhcUsq5lxecKpN3L7J5wq63GcyxP70O9F38nSlXMsunkp8WS9U+Udre+LPqk/3BLX4Lwz3OGJ6OHAA6tY/xHOb+bXn7jdd9/Vtb7vDhM3BMvOuSYr6w8HFRYzBAJxGTy8rzm5cPNcQWJGFh8O9qijj7BmLZrLcOS//b3YBMScduL/KTM/smYt+tno82L9s8894Q6sun9i/QHu9rtaWB1JQjn73NMtGlv66zxrZqOMCC3lIWohiQEn/a9bkYia7k5EcTvbttnfcU//Z/1c3BuugcgQfeDs45rrcPLnNzonK+nmkKrunbGDrf+RJtKTTj7BRBaBpd5ezHwz4ymn1rX3zrhnlPPt0f0TEeT27rrrr7TtRJ1bbLG59YnZ95D4DlYn6sh1+R6IkLiXNDOTrEL0OWzEG3a/Tqp7vGtw7hmJ45bY74XviISVYSPfdIt/+TZHHcJiRr8cD0dnNzjNEmfIhOS+cr26Jx9viTgcw/0koYgIt0rCEFREkH7WoxJRdZUD9rNM1/BvId1NYiaSRWKWpOF8fBTx+oCXgyasd92ee+1uUckNLa5xp9Q/0RzqW0NeM/HhmBkJkdp1t53tuKEj3jQHSjMey4gCfS2cH0dFNuAOCcd64UXnWT8IERDZjTTJrfrzB4vcyMTj2ogRSRY0Q07/amKOKAYBIKKjKez5nk9li1nffj3tumTk0RT1VsKJcjxZk/e0vd0SVhCuaV9OsLIThTS8MCtBomXiuogeorvxxhvZuvfGD7XrImY49t332M0EjeSJG2++xpomP0iICOerf1pdd21CMEigoK+HCITzI3JH1KpuQt740gus2Y5r0yTLcjgt3ht1f7VPDyvDXolobPEvcyxCbJAQZtbh8Kkz3wGJFFllHWZiTZ2JNum3JGqmvAjrFVddaqJFKn69hIDQF3XzrdfbA8ipp9dzTzz1kNW/6ZWXuHMbnunue+CuhGgeZc3E387/wgSW69KMS3p+14Toc49b3dPSIif6QMPCTB2pK1EXkT6/CwSchByaDcly9X2sJJRQZ+pEEzf12SNxr6fM+jDxW/g58RtpZOtoIk3m/cN0MomZSBaJWZKGQ+U9qFZ332LNZ1lOfKH7bOr77u7Wt1lKPn1gNE+Fm5XY78lnOiXE4jbrmMfxkyCBKL3a9zlzav78RCSkxje/sZkJ2c23NrfIiyd09uvQqa31LXFdojma9Y6oXSOrKS/kKDkXkUm7hMPl6Z8ykDRC9h3NiiQ1cC3KgiCR3EGm4XU3XGni59+N4zoj3ulv5cDxssw7cvSDtUmILU1rXmjYRqIKCQs416uva2KizbUQ7J69urkrr77UmscQBiKIrBEz5ll/FnW+6urL3PTZEy3SJbmE/jAcuK+XN8pOhES5n0uUl3tDXYYmIiDKOuEzXmfIev2Ae43I0BTIftiQEa9bJIZgkOX4ev+eCaF/KWt74j6RUUk/JwLXNPG93p+IJMlO5Bqjxw4yoeZ+IVS8b5Z1re+s+ZP7wjH9B2e9vsHrFDwsLPrlayuPrwP3jaiUBJvJ08clzkEdFia+r1EWffN74ruamIgsfYTL8fyG2rZv5Z569hH7XfBAQIIR9eY+SsxERUViVgjDAdH8E37CxpHxRI+j8/+Hj8F4oqdT349SgVPC0XknlXPf721frpG1z3/CiIBxfkSAfhz6jd546+Uc+3ijrOyPg/brOI5zegHCcKCUm/2snIlj/Lbs7YljqKdfR5SHyET76tgn6/5wrkQ9bJ+sa3Fuysk+1C9nGRZkbU8cw7UQD5rOwi9CR43RSYh8uI5f919Z/6szx1M/f+8x7jv1zLqfC+3l7vA9tO/HvkveD8z6Xv13zjp/X7lWjvubOI662TGJsjGqyb6JKJRXALiG389bVh2yvmu/zt9DzsH/4fuO2TUS1w/XG0GLfkeZYhIzkSwSsxKyvJxuUS2/8+GMeyWiuvYd7k04sv9G2SiOlWT5OVfc+fJa7w1HzcghNO3xrlSc2Jem5Vfe/OrBNsrOC/W8ulCUeuR3/opkEjORLBKztLTvLKkiflt6G01nPyQELROmReE7kigVzyRmIlkkZmlqOMlMdZThJsF0tkz+jkrLJGYiWSRmMpms3JrETCSLxEwmk5Vbk5iJZJGYyWSycmuI2UdTXzcxGznx+cDDCJGblIjZmE97uhsfOcgN/uBxt2KNZtCVyWRFM8TsvUk9E2JWw73/ee/AwwiRm5SI2Yw541yrp+u4V0fcnfhBqhNcJpMVzZatWuB6jWjlbutS282e/2ngYYTITUrEbMWqn90DL5zp2j13mvvm+4/t6SruhyqTyWR52bJV8928nya7B186293e5Si3bOWiwMMIkZuUiNm///7rhnzQxd382GHuuUE3uUW/zHa/JJ6w4n6wMplMFjX8xeLl37iew263/rJ+Yx5O+JV/Ag8jRG5SImaw+rflrnOfy+2H+Gy/a9yX88e5Zb8ykvh8+6HKZDJZ1PAP+IlZ88a55we2sAfih1++wC1ftTjwLELEkzIxAyaA7NK3qbv58cNc6+713CO9GrnXRt7rRn3S3Y38uJtMJpP9ZxO7utffae86vXqha92tnmv5RI3EA3ETN+/H6YFHESJvUipmsPq3FYkfaXf3aK+L3K1P1HS3dj4iYfwvk8lkYcvyDSR7dHipgRsxobtbvXZF4EmEyJ+Ui5mHH+VPy75zCxbNlMlksjxt8bJ5btWaZYHnECI5Sk3MhBBCiFQhMRNCCJH2SMxEqTB16lQ3YsQI9/vvvwdrhBCi5JCYiVKhXbt2rnbt2m7p0qXBGiGEKDkkZqJUaNOmjatRo4bETAiREiRmolRo27atq1mzpsRMCJESJGaiVJCYCSFSicRMlAoSMyFEKpGYiVJBYiaESCUSM1EqSMyEEKlEYiZKBYmZECKVSMxEqSAxE0KkEomZKBUkZkKIVCIxE6WCxEwIkUokZqJUkJgJIVKJxEyUChIzIUQqkZiJUkFiJoRIJRIzUSpIzIQQqURiJkoFiZkQIpVIzESpIDETQqQSiZkoFSRmQohUIjETpYLETAiRSiRmolSQmAkhUonETJQKEjMhRCqRmIlSQWImhEglEjNRKkjMhBCpRGImSgWJmRAilUjMRKkgMRNCpBKJmSgVJGZCiFQiMROlgsRMCJFKJGaiVJCYCSFSicRMlAoSMyFEKpGYiVJBYiaESCUSM1EqSMyEEKlEYiZKBYmZECKVSMxEqSAxE0KkEomZKBUkZkKIVCIxE6WCxEwIkUokZqJUkJgJIVKJxEyUCg8++KCrVauWW7t2bbBGCCFKDomZSClTp051F1xwgatWrZrbZptt3DnnnOMeeOAB99dffwV7CCFE8ZGYiZTyyy+/uH322cf973//y7ZHH33U/fvvv8EeQghRfCRmIuW8+OKL2UJWpUoVt3r16mCLEEKUDBIzkXKIzkj+QMyef/75YK0QQpQcEjNRKjz77LPukEMOcYsXLw7WCCFEySExE6XCihUr3JAhQ4IlIYQoWSRmQggh0h6JmRBCiLRHYiaEECLtkZgJIYRIeyRmQggh0h6JWQnw+++/5zmixZ9//mmWKlatWuUefvhhN3369GBN4Zk7d66755570uJl5h9++CGlgxXzXTF+ZH4jlPB9Y3nxxx9/ZO+DaeguIVKPxKyYICYXX3yxe+qpp4I1/8G2888/3/Xp0ydYU/J8//33bscdd3S9evUK1hSeMWPG2AvNP/30U7CmfPL333+7M844w91+++3BmpKlb9++7oQTTnAnnXSSO/nkk+27e/fdd4OtWXTs2NEdf/zx7sQTT3R169Z1119/vfvmm2+Crc717NnTtnMe9uF/fh8a9USI1CIxKyY8wZ977rmuRo0a9i5VmAkTJrhKlSq58ePHB2tKHiKVPfbYo1iCOXbs2LQQM6CeiG8quPXWW93mm2/uXn/9dffcc8+5s846yx4UPv7442APZ+LE6P8vv/yye+yxx+xF8AMOOMC+B7jmmmvcnnvu6Xr06OFeeukl98ILL7gBAwakNDoXQkjMSoRhw4a5DTbYIIfTg1tuucUdddRRbuXKlbb8zz//uK+//tqNGDHCffXVV7Ychad8zjdz5szs7QjmvHnz3PDhw93777+ffT7wYvbmm2/a6Bqce/78+cHWLL799lv3448/BktZTWmzZs2yyBGiYsb1Fi5c6N5++2333nvvueXLl9t6oEycj+YzysixbOd80eY06rJs2bJg6T8Y3or9w015lDlcbpr6xo0bZ2UIiyz18OekOY+ycB4iVETOi0qYOXPm2AvbPFxQZixOXIj4GDvSQzS19dZbu06dOgVrnEVtV111VbDk3CeffOI23nhji8jguuuus4hNCFG6SMxKAMRlt912c/fee2+wJssRHnzwwe6+++6z5UWLFrlLLrnE7b777u7YY491O+20k7v00kvdkiVLbDvi0KpVK1e5cmVXp04d24+pUqB169Zu//33d/Xq1bNzEgXikAHnvddee7kGDRqYcDIGIg6YZk+a5eC4447L0TRHH9l+++1nEQN4MfNDTT3yyCN2PZzy4Ycf7g488ED3xRdf2LY1a9aYw2/SpInbd999LTJBSIlGiGg8CND2229v26IQreywww45xI8mvYsuusg+I1inn366O/roo6257+yzz84WNO7NTTfdZJ8p02GHHWYPDfzPvSGSGjVqlG0H7gN1PfXUU90uu+ziNt10U3faaafFRqFRMfvuu+/ctttuaxGWBzG74oorgiVnos9336VLF1uWmAlRNkjMSgAig5tvvtmcpnfQ9LXsuuuu5nDZjqNkKpTJkydbZELEs91222WL3RtvvGEiNHjwYNv+6aefut69e9u2QYMGuWnTppngIV6IiBdORBIHznxhH330kS2TzLHJJpuYaAEih8P3EKkgPv369bPlqJiNHDnSff755xYdse7QQw91LVu2tG2sQ6R23nln984771ikiZjjwM8777zsaAvBor6+DGFogttqq61yiBlijKABgxEj9jTb+ggQEQWa+BAM4N5Sltq1a1vURfRKOU455ZTse4Uocz2WaaJE0Ihe46JiHia22GIL1759e3fHHXeYODZs2ND9+uuvwR5ZYta0aVOrJ5Fht27d3Hrrrec+++wz237DDTdY2fm/RYsW9v+kSZNsmxAidUjMSggEgKd4mgEBx4iTBZrFaArs3LmzLXuuvvpqizRw1HymPyY/aEqbPXu2JRj46IAoBtF85ZVXbBloettyyy3da6+9ZstEOF6MADEjmouKWTRaQQy4HiKFAQ58s802y1UXBINoEnEDEjWIROOgPwrhDosZk3Z6MaNJkL4rRC3cxAnc0+bNm9tnHgyox9ChQ20Zunfvbn1Y3PMpU6a4vffeO7vPkvvHg0BeY0Tefffddl0iZqJE7ht18hEsEOHxIHDhhRfad8cDCZGsF3HEi4cLvk9ElybJaPOzEKLkkZiVEPQ/HXTQQRaB4aR5qvcZjogCfWr0hYUhM45mugULFlhTGk/8cXz44YfuzDPPtOZJIg+ih2bNmtk2xAyhJBPP4yMSLzhxYoaTzysyI5JAXPz1aBJktmgfjSBm4esBxzKTNAJKhMT5iTLjiBMzkmi8mBH9PfHEE9Z8RzMnQu0jqaiYIU7hZsVXX33Vrs094Dw0uxKZsr5x48auevXqsU2MwHfHffMQkfGdUA7/OgBRH2WiH41zEsGGQcBoDhZClC4SsxKEpimawRAt+r5I8gAcPU/wNL2FIa2bKAunSSRAX04UIpOqVau6a6+91hwqzWU4fvqsADHD2YbFhb4erufXcY0bb7zRPgNiwzFxYobAcD2cOMtcjyiDZsCwmPkm0DBEi0RkiBWC8ttvvwVbckIfFBFQWMwQcy9mHqIrmmE33HBDa0aEODEjKvZ4MaPsRImIF/eZSAqhmTFjRrBnbhAzmorDDBw40O4N9xRoZvQPEnFwDfZR9qIQpYvErAThKR1Hj6ARyXiHhgAgBjhiBAknTjYfTVj333+/7fPoo49atIKD5jiitf79+1tGIP1CflJL1hM9+CjO95khWGQDIj6PP/64ZdjR3AiIDEkjXJsIkhR0IsW33nrLtnsx+/nnny1xhW1du3a1bUQxRDe+Pyw/MSPbkr4wxJBm1rygWZDy0SRLeWn24zjexwLq4SMhxJo+KbIaIVkxI7GG7Eb67Yjs6CcjO5L7lxe33Xab7Y8IY5yD9HwSYOjHhGgCSBQeOki44SGEc9CETITomyGFEKlBYlaC4LRo0kMYwhlwQNMdiRT0t9DvQj9Xo0aNstPMiSRoSkTQaNqj6RDnihOkeQxBQyDpVyN6CEdmOGAcKCLH9WmGRNA8pI+TsEGSCKKGsHJ+kk4g+tI0/TxEdiQ/8OIvTaFETl7MEBdEIwoOHyFff/31LRklL6gzZaCcNAFSJwST+wE0v1IX+ty4Z+HsQ7IWfWo8Dw/cRy90QIo8SR7cF4SbyIw+NM7h+7h4cAhHhZ62bdvafaC+NBlzbo4Pv9fGOehTywuac3m3kHtNUzP/U7/w6xRCiJJHYlbCkHVI9mGc8yIBgWiI5kYcZLQZjqd5ohSSGEaPHp2dwcd6mrs4jgw+Ii6SG4DIhgQHogiyC4ngaJKLRgJkBCJAOH6aNSdOnGhRHRAFEVVxLmA75eB6ZOkRKfmMPPquOAd1iQPhJXryZc8LykvkSYTHuaiTT/9H7Lj+008/bfv41xeAunKPgXJS5/B2zsU6RJfmTqJEhI1ol/3JAuWBgoeHKERtRHBEjhgRa7R/jWQOf+/joDkyfA6MPj01OwqRWiRmosTgnSuiIP9+XFnTpk0ba8pFJBFIXhOgb5J31zS8lBCZhcRMlBhEnbxj5fvqyhoSXWgqJTqjGZaIkQSV4gzKLIQon0jMRIlBnxkCUt6gqZCmSZobhRCZicRMCCFE2iMxE0IIkfZIzIQQQqQ9pSJmk79a4Dr0fNudf1cPV/XC+9weZ98tk8lkJW74F/zM/S8Mc+On/Ddpqsh8Uipmq9f+4dr2GBL7o5PJZLJU221P9nMrV68NPJLIZFImZgjZSdc/YT+ovc+9193ZdYh7fex0N/P7lW7ukrUymUxW4oZ/eevDL91d3Ye5/Rq2Nv9zzFWPSNAqACkTMx+RnXB9Zzd68rzYH55MJpOlyt6fttDVvaFLdoQmMpuUiBl9ZBaRnXOvhEwmk5WZTfhqkTvggrbmj97/fHbgoUQmkhIxI9mDHw9Ni3E/MJlMJistu7/naPNHtBaJzCUlYtb0/pftx9P73amxPy6ZTCYrLRs8Ybb5o3PuyJrWSGQmKRGzQxs/YD+eL75bFvvjKm3r2Lmru6Flq9htsvQzpmnhO43bloy99Pogd+Y558duy1Tjnk2YNid2W6YbSSH4I9L2ReaSEjHjh4PF/bDKwiRmsrBJzCqeeZ8kMheJmaxMrSyEJd3FDGHC4rblZRIziVmmIzGTlalJzApvErPCm8Qs85GY5WH7H3hQttMojCPgWmFHyXEcP2TMxOx1nDu8nJ+Fy8G54/aJM19nLHr9OKPMOPnw9ViO2zfOOL8/Llmh8GXzlux35Msaty3O2Dd8neh3lIzl9z2Ezx1eX5DFlctv878bb9zf8D32luw9Y9/wbzh67WTPk64mMct8JGYxhuMKOxbvRJIRNO+E/DJOA8fpz8d2zu+352fsF3ba0eX8jOsVZn/KGK6jd3bR/eLM19kf6x1vdL848/cnblteVhgxi/vuWC7MNfP7HqLbwr+b/Iz9KIff3y/7c/GZc/v9w+VlG+aXkzH2z++75fyZLGgSs8xHYhYx/tDjHB3HJ+uoON47c//Zn5PzJ1OWuHIkeyxGWePqkZexb7R+ONOwCORnYWdZGMvrfudn7M9xcduixv2K7luYa8btyzr/PRSmLGHj3oYFxYsu5+M+8jmve+q3RdfnZ+Fzce3ow4a/ZnhdJpnELPORmEUs7KjCxjmSFbPwvt4R+qdszh11JHFGObzTCluyTrgwdcbinHKc08vLwg64MM6dfZOtk7e4suZl7ButQ2Guyb7h++8tfLwXpsLc7+j5vPnzcq7w+vBvz6/zy8kY+4fFLC+RjK7LFJOYZT4Ss4jl5eg4PuxQ8jMcBQ6Dc/ljON4/fUf3j7PCONw4K20xC5uve9y2qBWlnnFlzcvi9i3MNQuzL/c72XuerCBxPr+v/y6SPTZs7B8Ws+j36h9GwusyySRmmU+FE7Nk/mj5Yw8LV1SEknGmnIP9vAPhHCwXphxsD1+Hc/hlzpOfuEbFrCBhiqtT+Jj86kxdwmUJl62ge8X5uU54HfX29y3OwueM1jNq7Be+z/6+c47wst8eZwV9D3496/x5C/p+2M55o/eN8mDh8/p9/XfB/WLZ36Nk6+D3j94TjHL7ssR9J+luErPMp8KJGX+oYUeRl3mH4S26LbwcZ1wzzkl7J5hMObyT8uYdJcZn75ziLFxnrKAyc76ww8Y4JuxAw9ui5h1utJzJ3Cv24TjOQZ3Cx8dZuKwc48uYl3EvfNm4Vlh0ivs9eGHw5tezT37fDxa+Z1j4/ofLHN0Wvqavf0F1YN9weaLl5nrhbeHlTDCJWeZTIcQsbPyRhh1DYS0ZZ5uMFbccyYiEt2ScXX5W1DoX5bjCOtLC3Ic4K+73kJcVt1yFsZKugxfIuG3pahKzzKfCiVkyT8z5WWGdbV5WnHIUVpyK6+yKWueiHFcYR1oSDxbF/T3EWXEfHgprJV2H0hTi0jKJWeZT4cRMJpNVPJOYZT4SM5lMlvEmMct8JGYymSzjTWKW+UjMZDJZxpvELPOpEGJGZzzpxyWZ8SWTYSRfFDcJJc5IwsgviYQkk1QkahRUHxJN+FuK21aeTWKW+UjMZLI0tFSJWUEmMRPlFYmZLOOtrBx/Ki3dxYzorzT/HiVmmY/ETJbxJjErOZOYifJKhRUzv84by6zHSbAc7jfgxd/wPhjLyToT9vPn9cZyeB+u57eFr1OQeadG3fzx0XJ5B+TNX5t6hevp9wuXzZfdL+dl/rjwdThfeB/O5bf5l6n9MdH9wi9bcz/8cl51iW7z98B/d97C9c3L2Cd8fX9v/bK/Dp/ZL9nvi2PC5eW4cHm4jl8O1xmL3lu2Rb/nvKw49Yneb7aHj8XY32+P3t/wNv/355e9he9JqkxilvlUSDHjDy78R+Qdhf9D9E7XH++XvfPw+4cdRH4WPV/UEUWdTXQ5P/NlCTsgzu2P986I/6PL/rM/zjvT8LHhcuZnnCe8L+Xx9xNjm7//0WU++++Ca3Jc9Nhwefnf7xte5nP4PP78rAuXrSDz98Ev+7r4c7Pd32/uVfje52fsF/2ew+Viuy9zeF9fT399jOOSrVNx6sN1fZkwjmOdX2bf8P7hZc4Vvm607uHzptokZplPhRMz/oD5HP4jw/wfKY7D78++fn8ch9/OH6XfHj5HXsax0T9cjud/zhF1SqyLli8v8+ULrws7J/4POxG/zpeH6/h6+M/+2uHzFGTR+8F98vXiPNH6hM9N+XwZ+Z9t/tjweQqqC/uFy+CNddF7XJCF7ynHcg1/7fA1WZfsPQrfWz5zHObLzHWoL59ZH74n0XoXtk5FqQ/r/GdvlM+fK/w5vN2Xi+Oj37s31vtrloZJzDKfCitm0T9S/rhYz/bwPv5Yv44/dvYtjCNhX44Pr+Nc/OH780Yt2fNzfHTfsBPx5Y+ad2T87z/7Y/z5ODZa7ryMc3pHjIUdHeUJX9ubvx7X8J/D5WY9x/ryFVQXLG5d3D0qyCgHx2Gci/pE7w/GNsrllwsyysb/HBeuX/j8GOf0deAz+/ltWGHrVJT68NmXwVv4e/Wf48zvz/HRdRjXjtYplSYxy3wUmQXGMuv5A2WZz/yRY/6P2x/H/9E/8vyMc3Dd8Dp/rcI6pajFHU89ff3CTjHOKAPHe6fKOo7x9ym6f17m6+OXvaPjc7g8eZm/R34/Xx6W/b0rqC5h4zi/b1HuMdfnev5esC5aRoxrsI9fLsjYl3P78nCffFnDdQvXNfzZW2HrVJT6hD97C3+v4c8FGdcJ78s1KVN4n1SaxCzzUZ9ZYtn/oYX/cP0x4f38ceF1GMthRx417zTC68LHsD3srFjvlylz2NlEjfNGnVr4GF+3cPk4d3iZ49nfr+MYlv39YD3n8PvHWfQa0WP4HHZeXCO8zLW4Zngdy+G6FVSX8PcXdsRx5Y+eJ2ps8/fFr+Oc0TKGrxP3XUTNfzfhsrKMhcvDds7N57h6sxy+VirqwzGcl+v77ZyDdX45WhfML3OuaJn9crh+pWESs8wnJWJ28MUP2A/ni++Wxf6wStv4w+EPKeooWect+gfJvn5bdF3YifDHGXYQccb+YYeAcZ7oH7q38Pn5gw+XO2pxDpT9w2UK1wWLOhGWo+dgP39drhG9P1Fj/3B9+My66LK36D2Lc9hxjjK/uvDZr4/Wx3/f/M81otePs+j148rINf0+lC16b+OMc/h7i8Xdf84ZPle03uHvPVX1Ce8Tvi7/++0Y5QjvE94WXh+uc/i8fA4fU9I28/uV5o+qnN8m8FAiE0mJmF3U+kX78fR+d2rsjyuTLFkHVlTzzjduW2kZ9Qs7onS3VH1niECqHXOcpfo3mO42eMJs80dn3fpM4KFEJpISMXvgxeH247mr+7DYH1cmWaodWPSJvSysPAhqSVqqvrOy+q7KSkTTxTq88q75o3u6Dgo8lMhEUiJmE6fPyQ7r35+2MPYHJpPJZKm2T75e7KpddL/5o1ETZwYeSmQiKREzaNmln/2A6t7QxU34alHsD00mk8lSZQjZmbd1Mz/U/OHegWcSmUrKxGzl6rWu9hUP2w/pwAvvc/f3HG1t13TGxv3wZDKZrLiGf8HP0LToI7KaTR5yy1auDjyTyFRSJmbAD4gnIn5QMplMVtqG/5GQVQxSKmYe2qrb9hhi2URVE1Fa3I9OJpPJimv00+NnSPZQH1nFolTETAghhEglEjMhhBBpj8RMCCFE2iMxE7mYOXOmmzRpUrAkhBDlH4mZyMWFF17oGjVq5P75559gjRBClG8kZiIHkydPdptuuqlbf/313eeffx6sFUKI8o3ETGTz77//uiZNmmSPZn7JJZcEW4QQonwjMRPZjB8/3m2wwQbZYrbxxhu79957L9ia3vz9999u7dq1wZIQItOQmIls3njjDXfBBRe47bbbzu26666uYcOGrl+/fsHW9Oaxxx6zui1evDhYI4TIJCRmIps//vjD/fnnn65u3bru8ssvt89//fVXsDV9WbNmjTvuuOMs2jz22GPdjz/+GGwRQmQKEjORi/r167tmzZoFS5nB3LlzswWtRo0a9vqBECJzkJiJXJxyyinuyiuvDJYyhxUrVrgGDRqYoB1wwAHuk08+CbYIIdIdiZnIRaaKGSBoTZs2NUGjb/Dtt98Otggh0hmJmchFJosZ0Bd44403unXXXddtu+22rlevXsEWIUS6IjETuch0MQPeqXv44YddpUqV3Hrrree6desWbBFCpCMSM5GLiiBmgKC98MILbvPNN3frrLOOu/vuuzWElxBpisRM5KKiiJmnf//+1n9GP1qLFi30crUQaYjETOSiookZMPpJ5cqVTdB4x27ZsmXBFiFEOiAxE7moiGIGn376qatWrZoJGu/aLVy4MNgihCjvSMxELiqqmMGXX37pateubYJ24oknulmzZgVbhBDlGYmZyEVFFjP4/vvv3amnnmqCVqVKFTdlypRgixCivCIxE7mo6GIGS5cutb4zBG377bd3o0ePDrYIIcojEjORC4lZFrxc3bx5cxM0sh0HDRoUbBFClDckZiIXErP/YB40Xq5G0Jh9+8UXX7T304QQ5QuJmciFxCw3nTt3tslKGQKrQ4cOEjQhyhkSM5ELiVk8r732mtt6660tSmvVqpX79ddfgy1CiLJGYiZyITHLmxEjRtgs3AjaJZdcYhN/CiHKHomZyIXELH8mTJiQ/XJ1vXr13JIlS4ItQoiyQmImciExK5hvvvnGVa9e3QSNl6xnz54dbBFClAUSM5ELiVlyEJH5l6sPPvhgGw5LCFE2SMxELiRmyfPzzz+7iy66yARthx12cO+8806wRQhRmkjMRC4kZoXjr7/+ctddd52l7TM3Wvfu3YMtQojSQmImciExKzy8XP3AAw9YhLbhhhu6p556KtgihCgNJGZpCvNtvf322/bu08iRI93y5cuDLcVHYlY0eJG6Z8+ebtNNNzVRa9OmjSb6FKKUkJilIYjYUUcdZQ7T2zHHHOOGDx8e7FE8Tj75ZIlZMRg8eHD2zNU0P0rQhEg9ErM04+OPP3Y77bSTOUoiqHvvvdfm3WJ5o402cu3atXP//PNPsHfR+Oijj9wXX3wRLImiMHbsWLfnnnva93L22We7xYsXB1uEEKlAYpZGMM/W3nvvbQ7yzjvvdH/88Yetp7/mueeec5tssolt69Kli60XZQsTe1atWtW+kzp16rjp06cHW4QQJY3ELI1o3LixOUb+jxvoluYtxg5kdPeuXbsGa9MP+v8Q6Exg3rx57vTTT7fv7cADD3SffPJJsEUIUZJIzNKEcePGWTPiHnvs4ebPnx+szU3//v1tdPetttrKTZw4MVhb/iFqufbaa91ZZ53latSoYQLw7rvvBlvTm0WLFrmLL77YBI130WiCFEKULBKzNIAEApx7pUqV3OOPPx6szZv777/fHCfjB6ZDXw0JLX7wXppRGR6K9Pb11lvPdevWLdgrveE7bNmypdWRh41evXoFW4QQJYHELA0g6QMh22uvvdwvv/wSrM2b3377zTVs2NAc52WXXWYv9ZZXPvzwQ7f99ttb8ygO/scff7QmVEbSIApF0Hj9IFNo27atfS9E2Y8++miwVghRXCRmaYBvoirMi7j01ey33352XJ8+fYK15YsffvjBHXTQQW6zzTZzo0ePDtb+B02rCB322WefBWvTn5deesnqzHdzzz33uFWrVgVbhBBFRWJWzpk2bZrbcsstLUohaikM/fr1M4fJsd9++22wtnxA9NWsWTMr37PPPhuszc3AgQNtH7IBM+l9rQEDBrhddtnF6takSRO3YsWKYIsQoihIzMo5TzzxhDm8u+++O1hTOJo3b57tMMtThiD9ZJSLhI+C3ovzfU2tW7eOzeJMV4g2DzjgAKsb7wwuXLgw2CKEKCwSs3IOo7K/9dZbbs6cOcGawsG7abvttptbZ511TEDKA0QhJHmQcTl58uRgbd4sXbrUnP4222yTcS9zEzEfd9xxJmiHHXaYzZMmhCg8ErMKAIkVJFKQ3YgwlDU9evQw533HHXcEawrGR3LMH/bnn38GazMDvpMzzjjD6keST3l56BAinZCYlWNoUiuJTET6mmjOw1ky+G1ZQlS2++672/tWhRFWmkgvvfRSy+rs3bt3sDZzIAnk6quvtu9o2223zagMTiFKA4lZOQTxYXiqc889114g7tixY74vSifD1KlT3RZbbGEjujPMUlnx8MMPm8Pu1KlTsCZ5aGrdeeedbVZnZnnONHh4YRoZRnAhkuZ7z6Q+QiFSicSsnEEyBCOt4/B5cZindD7TZ1TcET1atWpl52Jm5LKABAea0RjWiVExigIiSB0efPDBYE3mQeo+gkY9b7vttuwxOIUQeSMxK0fgtLyQkX2I8+cl6Q4dOrgNNtjARsmYOXNmsHfh+emnn6zfDEdJyntpQ7RJ3Z5++ulgTeHhflAHkkeKmhSTDtBvVrlyZbtfjRo1skQgIUTeSMzKEa+//ro5L5oXV65cGazNgqQJBA1HvmDBgmBt4WHySK5Rs2bNUn9Zd+7cuTYA8q+//hqsKRq8BE4dEP5MboYLp+6T8ViWzcNClHckZuUEHD0p9PQJMXpHHIzLiGMjmeP3338P1hYOmjH9/GfpOrU/STG8l0W/EqOEZDL8Lqgr3xcPMhMmTAi2CCHCSMzKAUQXfjSMV155JVibG1LSaX7knbHiTPHCaPQIAcNdFTexpDAgpMWdONTDBKLcr9NOOy3jkyQY+YVMTurLxKyMHiKEyInErByAY0ag6tatW6BjJnGiSpUqlhhSnGanq666ypzjLbfcknIxmD17tnvmmWfsHTGMwXbfe++9YGvRoMy+f7G8jj1ZkvAgwziO1JcHEYYAy5Q534QoCSRm5QDf7McI8sngxys888wzixzpfP311zbm4+abb16spJKCYABhmk8p7xFHHOHq1atnM2LT/3f99ddbUkpR+eqrryxSIUOyNCPMsoRZxJlChoefFi1aZNwL5EIUFYlZGYMYkTJ/1113Jf2kTZ8RU7sgEK+++mqwtvCQ3s45zjvvvJSkf/NyM2LJe2FEnzhe6oiA3Xnnnfbe27777lus2ZeffPJJqwP3r6IwYsQIE3H/3RX1NQchMgmJWTmhsE1GjOnHKBqMvF7U7EacIO98MbdWSQ+hNH78eHtB+6STTsozoeWDDz4wMaMeRb3+6tWrXfv27TNmVupkYY47ps9B0BjnsrzNiiBEaSMxS2O6d+9uTXjFeZn6hRdeMIdIqj7CUBLwfhwp5cwa/d133wVr42FgXUY5odmRAZVF8pAYcvLJJ9v3x70ePnx4sEWIiofErAyhuZAnamaGLgq8J0a/UXFg6Kz69etbckFRyxGGCJP35HgxO9k+QCbpPOqoo2zCSgStpDIeKwLLly93V1xxhQkaL5IzqLQQFRGJWRmCkKWiia+wlMRgxh6iRRxrYUf5IMogQqOPrThJIRURxJ9RYhj+jHt/7733KjFEVDgkZmUITWw4nyFDhgRr0psvv/zSkjqI9IrSZMkLwkOHDi20uPICOe/nTZo0KVhTMXnjjTfc1ltvbb+ppk2bKjFEVCgkZmWIFzMceCawbNkyy1Ik7b80YbxGxq287777gjUVF5p2fWIITbel/V0IUVZIzMqQoooZfVtk7zG8FSOsFyaTjZmnBw8enGMuMcaBpK8q+iRPxEi0lQwIyptvvuk6d+7s3nnnnSL1v5Ghx6j4vEuVrBOmSZLRUJiF+pxzznF9+/a11wAyfVSQ/KAf9fjjj7ffFtmi77//frBFiMxFYlaGFEXMeDmYsfoYUZ2XrXmHi6YlBhBOJnHiiy++sJduGbjYM2jQIJv0khR3z4wZM+zl5mQSCjjnIYccYi9Fn3322ZZZx8zJJCckCyLGu1OMO8mL1XXq1EmqPgjXoYceatmQ3JNatWpZdFjR+4wYzPnaa6+13xevSLz44osVWuBF5iMxK0MKK2Y4aDLXdtxxR0vHJ/ohDf7iiy+2xAmGjSoIsg33339/m9PMv9vWsmVLKwfDaXkBeeKJJ6zprqDIjDIhPIyR6KM9ykYZmWgyGZhokyG67rjjDlumD4zJRJMRM+owffp0G6CZeixevLjYo/JnCvQ98mI8iSGMGML9UWKIyFQkZmVIYcWMd7YYgiocQQGO34/Xlwyk4W+33XbWx8XTOpENEQ3vhjG0FeuIkBC3giAqW3fddd3LL79sQkIzJnNvHXvssdbUlczL4CtWrLAy8IJ1Ufp4EEPet2PMR5EbBibm5Xp+awyBVpwphIQor0jMypDCitnkyZNtf5oFw+CccOa33357sCZ/xo4da+fhf6K5ffbZx/q7GImDPidEiaZC+uQKAkfJO2VVq1Z1Rx99tI1Gwf++yTDZzMRhw4ZZHRhnsXnz5pbZmCz0m3Fs69atgzUiCkOG8WI83zsPDozQIkQmITErQworZkRg7E8KdhiGiyLSSrZZD+fPMFZMyc/sz7zfxQvYREb0s/DeG01TlK8gSBJhX85Dcx+RGsbnws6OTITFWIskLdAUyrtnyeDFrE2bNsEaEQcJPiTJ8Bsiwuc7EyJTkJiVIXFitmbNGhuVIw6SP5j6BcEJw/EkcIwcOdKWiYbIUMyrw5/1zItWvXp1G62DubKASGyPPfZwV155pTvyyCOzBx/Or0xkztEf061bt2BNPPTvcZ44ouUkG5I+QC/a9PPQD5ZXfRBBmtEQZ5E/PLTQzMzvhd8eDwBFnehViPKExKwM8WLmX5pGgOinQmjiwJmTJEEfVceOHW2gXhz+nnvuaQkY/kVlxlskISK/pjqOI6Kir42mRaApinU0G3J+IAmDKftJPIlLyGBd48aNLTKk34yp/skwpP+OpkO/z/nnn2/NjnEp+1OmTMme44yo7u677zbRJhIFZsSm2TOv+iDehx12mGV20gRLAkphX7yuaLz++uuWpMPvj360wjTrClEekZiVITgQ3o8iEgH6qkgvJ9MwL0jaQNAQj9133932Z7QHEi88PHkTLeU1Wj0QzdCUh+j5Y3lXDDGlvwtBAqIixvwjYzKv7EKa+ZgoE+fI7NX0wdEvM2rUKNvOkz9igyjGZdORkYkY01RIEgrNjOEmMCIuRJb98oI+P8qNCFIWiVnBTJgwwV6pQNC47+PGjQu2CJF+SMzKECItoimf8UckQ/NaMgP00mSHGEbT0Il8aD68+uqrC3TonCM67BTCEz4nZeI9tjFjxgRr8oYmLBJKGDg4nMWIMCIy0b6+MNwLxIpsxnD0RrRKcslNN90UrMkbro+A59UkKnJD8hAPKggaAz0///zzSWWgClHekJiVExAeoiKirrwioGSgqY/hjEoi/RpR4eXnm2++uchlwjHSbJpfZJcfNJnSfIhAitTAAwxDgTHoNaLGg5De1RPphsSsnMALxzhu3rkqDgxVRV9aSUBTJM19xSkTjpKR9JPNTIxC82Fx5msTyUMUTtM1gsboMrwKIkS6IDETQmQza9as7Ak/yRAlUUSIdEBiJoTIAX2pNHcjaNhdd92lZkdR7pGYCSFyQf8mc8T5+dEY3JqhzoQor0jMhBB58vnnn2dPJ8NrHH369Am2CFG+kJgJIfKF5CTGy+TdRV7Y572/4iYqCVHSSMyEEEnRr18/mxaIKI1ZFjRYcfHRlDwlh8RMxML7YTQxCRGGbEfeh0TQGBmGee802krRYDBu3uNk1nhRfCRmIhaeupk5mqGqhAjDy/RM+slM5IjaBRdcUOAkriI3DB9Ggk0ys7mXVxgCjzFd/aDkZYnETOSCTDZG0mdk9aeffjpYK0ROGHvTj+3Iy9Ykh2gorORh2DrGE03npJrhw4e77bffPsfYsGWFxEzkggFot9hiC3NSDPq7fPnyYIsQOWGUmKuuusp+K9hll13mvv3222CryI/8xIwxSmkdmTNnTrAmC6aBio6mw3fALPRheFeQ6ZmSbQImsmLGio8//jj27533DPELGGOgAgOjP/bYY/a9jxgxwq5Xlu8jSsxEDojKmK7FOyfs0UcfDbYKkRt+M/3797dpevi9MHOCorSCiRMzBspu2LChTZ7LfWRmC8bKJKOUwbhbtGjh6tevny0aiBWZpszwHp4Mt0uXLtZNQDNgQTDVEv2gjOnKoN4MVO6nbwIGCj/qqKNsG+Xi+ly3VatW2QlBlJUxVAcOHBgcVfpIzEQO6CNjfiscE6nYTOVyww03aAJHUSAMBn3NNddkPwQRpelF67yJihkzWBx77LE2hRIT7hKdde3a1WYFZ8JcYCBx7q2f6497zt8qXQJegBA9Zo9HFAuKzJh9HBHjb54ZL5i5gkibdwpJ9iHbkhno69WrZ2LJAObMrIA/IBpkgGrKQx3oA0R0ywqJmciBn9W5U6dO9kdE8wHLylgTyYAjZTzHKlWqmJPjyf2ll17StDwxRMWMiWWZhoco18P9ZNYKplBCaJj2iSxSZoUHmiKZE5FugXvvvdfWITKs69Gjhy3nB8knTNAbnpwV0dpggw1sgHD+7mvWrOnOO++82CSPAQMG2PccbeYsCyRmIhZmiibTSiPWi6JAxNCsWTN7yRpnd+qpp1p/i/iPqJiRIYoIRadv6t27twkYKfw8bNLMRwQH7dq1s6HGrr32WmtqpGn3xRdftIluC8owRShpKmTiW7oWmBS4UaNGZnxnzP4OzJxB5iqT6yJ+vs8MmNWCfZk1v6yRmIlYyGJEzPiDE6Io4CzJdqMPBodHpM+gxTRtpQtEKUREYaNfK+zQi0pUzFq3bm1iFp27j+38LfoZ6Tt06GDHIXoMNda+fXub9oloioQRmiTr1KlT4PyBPurjeyHSo0mTh9hnnnnGomkSOvx+NCGS4czkwYipTxLxYlYekn4kZiIWiZkoKegLeuihhyyFG8dHGj9NYGTclXdIpKA/inJ7Q0hKYkCBqJghJkRACEcYIiSaGX1T3qeffuq22247i+To7xo5cqRlNNLXRlMj/dyPPPKI7VsQnTt3tsgs2b4umkIRzZ49e9qyF7Py8J6hxEzEIjETJc20adNsxnGcIQ6Q6AFHXF6Ti4hsiHjCYkbZS+ol56iYEd1UrlzZnXbaaZaCz/iXCNsOO+zgmjZtmh1p0dSIYPFwwP+kyNO82LhxY1tH/9mMGTNsX9LtGzRoYPc+DiZgJTK7/vrrTRB5wPAvQpMMxrmJrhE7Xpbn3UL69RjaDN5++227LzycsA8PLmWFxEzEIjETqYKkIrLjvECcffbZOVLBywOIbJMmTSxq8eXEmOetpOBvi78x+sQ8b7zxhttzzz2tOY+0fP4n+SL8bhnNfjRJ+nvn6datm60jjR7hgb59+9o66pMXRFlMxLrjjju6I4880u21116uWrVqJohcl8xI+uB4+CBCpG/NR9Vspy+Na3AOL8xlgcRMxCIxE6mEJ3giHN+fRvRz4oknWrPVsmXLgr1Kl5UrV1rkcfrpp7v111/fykU2Jv18OHqSWLxIlAT0u/H3RUQUhuZEBJ+sUJoU467JMaNHj86RhUgkR7+ab/JD9G666SYb+CB6jShEhURZ9JXxP+f1kSBRIu+P8VoAkWo0+qKPb8iQIe6tt95K6r22VCExE7FIzERpQLo32XdHH320iQeG873//vutqas04H2uJ5980iIQXwZEtmPHjtl9SQyoXB4y9goD740hxjwgVAQkZiIWiZkoTXii552lE044wW266aYmKPTlkIKO0NDnU1IRG01kRD84+bPOOsteEOZ6NCkytQ3NbvQVpTvUj9T9ivKOqMRMxCIxE2UFTWtMAHr44YdnR0oYfUi8T8V4gDRpEVEhgjSn5QXJJTSD8TsmW5C+Jka04EVhf15G0GDkEprQCkpnF+UXiZmIRWImyhre8eL3R5Mjo/PzDlZY3OjHYkxAMvpIXCDxIWyMTUgiA68CbLTRRtnHkf5OQgPDtNE/FH1JWaQnEjMRi8RMlDcQHSKyW2+91V1++eX2wjDvVvE7DYtc2BAt+sLICCT9nN/1lClTysX8W6JkkZiJWCRmorzDmKHMo0VzI8kiTF8SNt6xYrQOkjg0gn/mIzETsTDywcYbb5xrNAIhhCiPSMxELGR78c5NWb43IoQQySIxE0IIkfZIzIQQQqQ9EjMhhBBpj8RMCCFE2iMxE0IIkfZIzMqQtWvXWuq7n7VVCCFE0ZCYlSG87MkoBUyfIIQQouhIzMoQppRAzIYOHRqsEUWB+Z4efvhhN2bMmGCNEKKiITErQyRmJQNTgzD9PCOiCyEqJhKzMqSoYvbTTz/ZrK8333yzjSjO+InJTl0xZ84cmwojPFI4o5M/9dRTOSYfZCw7pmGfNGlSsCZ/mKmWqTkYiZzJFiljYWCqDgaR5Xim/0h2TEjG3kPEttpqK5va45FHHnGDBw/WVB5CVDAkZmVIUcRsxowZ7rDDDrNpLS666CKbvJAp3jt16pTUYKocv84669jYix6mZ6ccrVq1CtY4EzHmfOrTp0+wJm/Gjh1rM9rWq1fPNW/e3B144IE2/caPP/4Y7FEwd9xxh03pwfGXXHKJ1SuZ+nz22WfuuOOOsyk+9tprL3fKKae49u3bV5gJCYUQWUjMypDCihnZj0xlwbTyRFhMSsjI4S1btjRBY2qLguAYJj1s0KBBtsNnwsNKlSqZKPz555+27sEHHzRxYIzG/KC/6uCDD7YpOfy0GiS27LHHHu7222+35YJgVl+m8mjTpk2wxtmEivlNuhiGMiKmiDHl8XUQQlQcJGZlSGHFjKY8JhakOS/Ml19+aVO+d+7cOViTPwjVFltsYc2LNMdVrVrV1a1b1yY6ZNoM1tWvX9+dfvrpwRF5w6zA6667rjVJzpo1y6a3nz17tk2WeMwxxyQVIa1evdr2J+L86KOPgrXJQz2YtyoshkKIioXErAwprJhNnjzZ9o+m8tP/RbMjfU3JMGHCBBOg4cOHu6lTp5qIjRw50pIoevbsaXNEIQ49evQIjsibfv36WVSIIDK7b+3atU2YqlSpYtFass19zD9F0+TOO+/szjjjDJufKlnon6O8SgARouIiMStDCitmRD3s37t372BNFjSzMZEm6enJwGSFTDXvZ96tVauWNWESiTVp0sQSMeiDSmY6eQRxgw02sH63RYsWuYULF5rRX0aTX2EgCWTAgAEmiJUrV7am1GTwYqbITIiKi8SsDImKGX1ECEFemYD0I9E31KhRo2BNFr169bJIy0+kST8a584vKvKJGiRtXHPNNbaOpkKSMBo2bGjNjr7vKb8yzZ0718SsY8eOwZr/CPd5UXYivji4Tjj7kHpsueWW7o033rDlFStWmLDllRBCav4uu+ziWrRoEawRQlQ0JGZliB8BhFRyYFirmjVrunPPPdeW43jooYfsmOuuu84iNLIYt912W8sAJLIBoi361jh/XtBUiQByrkGDBtk6mjGZXZp1vv8NkTnkkEPc+eefHysmCNaNN97oNt10U9euXTsT5jfffNOyE/v27Wv7+D64448/3q1Zs8bWhSFz8sorr3SvvvqqGzFihGvatKk1efryU0ciz7zqQ7lo4qSp9cknn7T6KAlEiIqFxKwMoRmvWrVqbvz48bZMM90OO+zgrrrqKluOg6Y73gk76KCDrJ+KTEKa11auXBns4SyLEHHJKxIC9j/hhBNMPEmgACK6xo0bW7YjiSDA9YiSKFNe2YWrVq1yHTp0sDJRHsTvtNNOs34wIMGDdQhanCAuWbLENWvWzOpDEgiJI+GmVyIuElbye3eN0T+qV6/u9t57b3fnnXcmldYvhMgcJGblCN7p2mabbZJKsYe4AYppktt///0tMioJh070h8CStZgMCFM0+ho9erRFVqNGjQrWxIPo0Z8XhmXS/O+7775gTf5QfyFExUNiVk6giZBmOJrUisOzzz7rjj766FyiUBSI1HgJmVT+okK/3YUXXmijlRQFXu7m/Tf6xYQQIi8kZuUEoqxhw4ZZVmFxIHli+vTpwVLxoEz05xWnTLxIPXDgwCJPc/Puu+/ae3RCCJEfEjMhhBBpj8RMCCFE2iMxE0IIkfZIzIQQQqQ9EjMhhBBpj8RMCCFE2iMxE0IIkfZIzIQQQqQ9EjMRC6N/PPLIIxrjUAiRFkjMRCxMK7PddtsVaeZnIYQobSRmIheMqM94iEwFw2zReY2WL4QQ5QWJmchFv379XKVKlUzMmHjTTwcjhBDlFYmZyAHTsDCvGELmrUGDBjZgsBBClFckZiIHTIDZvn17V69ePbf++uu7Sy+91KZhKeqo90IIURpIzEQsXbt2tQk1/WzRQghRnpGYiViefvppEzNlMwoh0gGJmYjFi9mHH34YrBFCiPKLxEzEIjETQqQTEjMRi8RMCJFOSMxELBIzIUQ6ITETsUjMhBDphMRMxCIxE0KkExIzEYvETAiRTkjMRCwSMyFEOiExE7FIzIQQ6YTETMQiMRNCpBMSMxELYrbVVltJzIQQaYHETMTyzDPPuG222UZiJoRICyRmIhbmNWM6GM1jJoRIByRmQggh0h6JmRBCiLRHYlZO+Pfff92vv/7q/vzzz2BN/vzzzz+2P/9H+fvvv+18+cE+RYHyXXLJJW748OHBGiGEKHskZmXM999/71q2bOkOPPBAS7ioXLmya9CggRszZkywR06++OILd/nll7u99trL9t99993dFVdc4WbOnBns4dxTTz3lqlWr5hYuXBisyclVV13lGjVq5H7//fdgTfKsXbvW/e9//3MdO3YM1pRPfvvtNzd37tykHw6EEOmNxKwMmT17tjvooIPcjjvu6Nq1a+dee+0116VLF1ejRg23xRZb2HKYESNGuJ133tkdeuih7rHHHnO9e/d2Dz74oK1D1CZNmmT7vfvuuyY4zz//vC2HWbx4sdtss83cXXfdVWD0Fgditv7667tHH300WFM+ee+999x+++3nvvvuu2CNECKTkZiVETTzER0RXXkR8pBFeNRRR7k99tjD/fzzz7aOJkWit5o1a7off/zR1nmmTJlignjqqada9uEvv/xignfSSSflaoZ84YUX7GXo8ePHB2sKR35iRlm/+eYbt3Tp0mBNFpR92bJlwVIWRIXsFxbUv/76yy1ZsiRXBiURJlFWXpmV8+bNc19//bWVDcjERMgR9Pfff98EXFmZQmQ2ErMyYtq0aRZ93X777cGanLzyyituvfXWc7169bLlPn36mIj45Si33nqr23zzza0ZEjgvQjlr1ixbBgT0/PPPd9WrV892/FE+/vhjd+edd5o4xBEnZsuXL3e33XabCe2+++7rjjjiCPfAAw9kCwgCeswxx7gVK1bYMnTt2tXVqVMnx3Xeeecd24+IFX744Qd35ZVXmjAj5KeddlqO994QqebNm1uTKtetX7++mz9/vnvkkUesGRYxYxvlGjp0aHCUECITkZiVEf3797fmvgEDBgRrcjJ16lQTJ0QB2rZtayNyfPXVV7YchSbHTTfd1A0aNMiWJ0yY4DbYYAP35JNP2jIQ3dAn16FDh2BNbmi2RAT69esXrMlJVMwQyHPPPdciw27durkPPvjA3XPPPW7jjTc2UYQhQ4a4ddZZJ7tsHFOvXj27DqINRGg333yzNZkigkRXxx13nDW5jh071n322WfWl0hz6oIFC+wYrkN9iDLpM2zfvr2bM2eOmzFjhp2L8yNsffv2zT5GCJGZSMzKiGeffdZttNFGbty4ccGanNC0RmR1yy232PK1115rguGbHaOMGjXKBOTFF1+0ZZrs6I8jWvER0ptvvukqVaqUpyDCt99+a311ixYtCtbkJCpmNOOtu+667tVXX7VlT5MmTdxuu+1mIkLTIZHTddddZ9u4xv777++23XZb17hxY1tHwgZR1E033WTLgwcPtvp8/vnntgz0fyF2nTt3tuWLLrrIosw4EFDEzEd5QojMRmJWRtCng7MePXp0sCYnNL8Rid133322jJPH+eeVofjWW29ZJEfE5yEqoamSfiw455xzLCIqTv9RVMyI8nbZZRf35Zdf2rKHSBGxJlIDhOfwww+344nQ9t57b0t62WGHHWwdkRVlHTlypO1P1EX9EXGaTGnG5B4QbbZo0cL2oa5bbrml9Q1yTvrmPNwPxIwoTQiR+UjMygj6cDbZZBP30ksvBWtygsix/bnnnrNlRINmRJrb4iC7ETGbOHFisCYrMYRzkCFJf9V2221nafvFISpmd9xxh9tzzz0t2gqDmLAfWYVAnx/lJ9Jq3bq1NRlS1p122smiO5pDyT70Yn3jjTdaZEqfGJmXXAejufWjjz6yfYDMzYYNG7oNN9zQnXLKKdnNiRIzISoWErMygiYzHDn9TXEvPvMuGM7cN5ORHEHkQjQTZdWqVZb9SORDX5NnzZo1rm7duu7EE0800aTZLxpBFZaomCGOJLJ8+umntux56KGHrFnUiwnJGojZww8/7GrVqmWj8nMuykzkdeaZZ7qLL77Y9oVOnTq57bffPqnUeu4fokkk2KZNG1s3cOBAiZkQFQiJWRlCxEFiBAKFIJEYQVMZjpzmtFatWgV7ZvWB0f9F0xtRDk2F7E8aP8KH46ZPLAoRG6JA1HPGGWcU+G4ZrwkQOZFIEUdUzOh/Q0ToI6Pfi/OzjmgNoWZ/QHBo5qQciDQJKkDkRTMlfWE9e/a0dTB58mS7N5TFiz3nJg2fNH9S+z/55BO7JtAvt+uuu2bfM5JGuCck2HCfMCFE5iIxK0MQLprTECiimwMOOMA+Iz533313tqP2IDBEMGRB0mRIEgVNizhx3xwZhQxG9sGx049VEMlkM7I9PAII0Rll5r040u35TIp9NNGkR48eduwhhxxi4gMkrrCO+iPMYYjiOFfVqlVNCGvXrm1JIjS1Ug5S9atUqeIuuOAC24f0/XAkyL40P/J/nNALITIHiVk5gNRy3sWiaY5UdSKOvKDpkCQJ3tPC2b/++us53iWLg+gEsQsnSOQFiSc0SeaVzUiEQxnDw2cBZWYONEQO4Yi+JA0IDOWgn8uDYFN3mgXjoF+NJkn6yjg/75kRpQJiSVYo23gtIBpNUkb6C4kief9MCJG5SMyEEEKkPRIzIYQQaY/ETAghRNojMRNCCJH2SMyEEEKkPRIzIYQQaY/ETAghRNojMRNCCJH2SMyEEEKkPRIzIYQQaY/ETAghRNojMRNCCJH2SMyEEEKkPRIzIYQQaY/ETAghRNojMRNCCJH2SMyEEEKkPRIzIYQQaY/ETAghRJrj3P8BXMnCY51B+AAAAAAASUVORK5CYII=)\n",
        "\n",
        "2개씩 쌍을 지어서 계속 이어나가는 방식\n",
        "\n",
        "low:5, low er:2, newest:6, widest:3"
      ],
      "metadata": {
        "id": "ipF5nerP5r4t"
      }
    },
    {
      "cell_type": "markdown",
      "source": [
        "## IPython download 및 필요한 라이브러리 임포트"
      ],
      "metadata": {
        "id": "dKDZVEiY-zms"
      }
    },
    {
      "cell_type": "code",
      "source": [
        "!pip install IPython"
      ],
      "metadata": {
        "colab": {
          "base_uri": "https://localhost:8080/"
        },
        "id": "fBMYuuSM6m5N",
        "outputId": "3ce54451-c130-4555-a099-daf7685de48f"
      },
      "execution_count": null,
      "outputs": [
        {
          "output_type": "stream",
          "name": "stdout",
          "text": [
            "Requirement already satisfied: IPython in /usr/local/lib/python3.7/dist-packages (5.5.0)\n",
            "Requirement already satisfied: pickleshare in /usr/local/lib/python3.7/dist-packages (from IPython) (0.7.5)\n",
            "Requirement already satisfied: pygments in /usr/local/lib/python3.7/dist-packages (from IPython) (2.6.1)\n",
            "Requirement already satisfied: decorator in /usr/local/lib/python3.7/dist-packages (from IPython) (4.4.2)\n",
            "Requirement already satisfied: pexpect in /usr/local/lib/python3.7/dist-packages (from IPython) (4.8.0)\n",
            "Requirement already satisfied: setuptools>=18.5 in /usr/local/lib/python3.7/dist-packages (from IPython) (57.4.0)\n",
            "Requirement already satisfied: traitlets>=4.2 in /usr/local/lib/python3.7/dist-packages (from IPython) (5.1.1)\n",
            "Requirement already satisfied: simplegeneric>0.8 in /usr/local/lib/python3.7/dist-packages (from IPython) (0.8.1)\n",
            "Requirement already satisfied: prompt-toolkit<2.0.0,>=1.0.4 in /usr/local/lib/python3.7/dist-packages (from IPython) (1.0.18)\n",
            "Requirement already satisfied: six>=1.9.0 in /usr/local/lib/python3.7/dist-packages (from prompt-toolkit<2.0.0,>=1.0.4->IPython) (1.15.0)\n",
            "Requirement already satisfied: wcwidth in /usr/local/lib/python3.7/dist-packages (from prompt-toolkit<2.0.0,>=1.0.4->IPython) (0.2.5)\n",
            "Requirement already satisfied: ptyprocess>=0.5 in /usr/local/lib/python3.7/dist-packages (from pexpect->IPython) (0.7.0)\n"
          ]
        }
      ]
    },
    {
      "cell_type": "code",
      "execution_count": null,
      "metadata": {
        "id": "71LNuXmG5noj"
      },
      "outputs": [],
      "source": [
        "import re, collections\n",
        "from IPython.display import display, Markdown, Latex"
      ]
    },
    {
      "cell_type": "markdown",
      "source": [
        "## dict 지정"
      ],
      "metadata": {
        "id": "501t11vF-4pS"
      }
    },
    {
      "cell_type": "code",
      "source": [
        "# BPE를 몇회 수행할 것인가?\n",
        "num_merges = 15\n",
        "\n",
        "dictionary = {'l o w </w>': 5,\n",
        "              'l o w e r </w': 2,\n",
        "              'n e w e s t </w>' : 6,\n",
        "              'w i d e s t </w>' : 3}"
      ],
      "metadata": {
        "id": "MYZU3c7r6sLR"
      },
      "execution_count": null,
      "outputs": []
    },
    {
      "cell_type": "markdown",
      "source": [
        "## CODE"
      ],
      "metadata": {
        "id": "Sh2T8RDa-7i2"
      }
    },
    {
      "cell_type": "code",
      "source": [
        "def get_count(dictionary):\n",
        "  pairs = collections.defaultdict(int)\n",
        "  # print(pairs)\n",
        "  for word, freq in dictionary.items():\n",
        "    symbols = word.split()\n",
        "    for i in range(len(symbols)-1):\n",
        "      pairs[symbols[i], symbols[i+1]] += freq\n",
        "  print(\"현재 pair들의 빈도수 :\", dict(pairs))\n",
        "  return pairs\n",
        "\n",
        "\n",
        "def merge_dict(pair, v_in):\n",
        "  v_out = {}\n",
        "\n",
        "  # 이스케이프 처리\n",
        "  bigram = re.escape(' '.join(pair))\n",
        "  print(bigram)\n",
        "\n",
        "  '''\n",
        "  bigram?\n",
        "  문자, 음절 또는 단어 인 토큰 문자열에서 인접한 두 요소의 시퀀스\n",
        "  '''\n",
        "\n",
        "  p = re.compile(r'(?<!\\S)' + bigram + r'(?!\\S)')\n",
        "  for word in v_in:\n",
        "    w_out = p.sub(''.join(pair), word)\n",
        "    v_out[w_out] = v_in[word]\n",
        "  \n",
        "  return v_out\n",
        "\n",
        "bpe_codes = {}\n",
        "bpe_codes_reverse = {}\n",
        "\n",
        "for i in range(num_merges):\n",
        "  display(Markdown(\"### Iteration {}\".format(i+1)))\n",
        "  pairs = get_count(dictionary)\n",
        "  best = max(pairs, key = pairs.get)\n",
        "  dictionary = merge_dict(best, dictionary)\n",
        "\n",
        "  bpe_codes[best] = i\n",
        "  bpe_codes_reverse[best[0] + best[1]] = best\n",
        "\n",
        "  print(\"new merge: {}\".format(best))\n",
        "  print(\"dictionary: {}\".format(dictionary))"
      ],
      "metadata": {
        "colab": {
          "base_uri": "https://localhost:8080/",
          "height": 1000
        },
        "id": "CFNXFmA67JsB",
        "outputId": "af8530b5-93e8-4513-807e-db56021935a0"
      },
      "execution_count": null,
      "outputs": [
        {
          "output_type": "display_data",
          "data": {
            "text/markdown": "### Iteration 1",
            "text/plain": [
              "<IPython.core.display.Markdown object>"
            ]
          },
          "metadata": {}
        },
        {
          "output_type": "stream",
          "name": "stdout",
          "text": [
            "현재 pair들의 빈도수 : {('l', 'o'): 7, ('o', 'w'): 7, ('w', '</w>'): 5, ('w', 'e'): 8, ('e', 'r'): 2, ('r', '</w'): 2, ('n', 'e'): 6, ('e', 'w'): 6, ('e', 's'): 9, ('s', 't'): 9, ('t', '</w>'): 9, ('w', 'i'): 3, ('i', 'd'): 3, ('d', 'e'): 3}\n",
            "e\\ s\n",
            "new merge: ('e', 's')\n",
            "dictionary: {'l o w </w>': 5, 'l o w e r </w': 2, 'n e w es t </w>': 6, 'w i d es t </w>': 3}\n"
          ]
        },
        {
          "output_type": "display_data",
          "data": {
            "text/markdown": "### Iteration 2",
            "text/plain": [
              "<IPython.core.display.Markdown object>"
            ]
          },
          "metadata": {}
        },
        {
          "output_type": "stream",
          "name": "stdout",
          "text": [
            "현재 pair들의 빈도수 : {('l', 'o'): 7, ('o', 'w'): 7, ('w', '</w>'): 5, ('w', 'e'): 2, ('e', 'r'): 2, ('r', '</w'): 2, ('n', 'e'): 6, ('e', 'w'): 6, ('w', 'es'): 6, ('es', 't'): 9, ('t', '</w>'): 9, ('w', 'i'): 3, ('i', 'd'): 3, ('d', 'es'): 3}\n",
            "es\\ t\n",
            "new merge: ('es', 't')\n",
            "dictionary: {'l o w </w>': 5, 'l o w e r </w': 2, 'n e w est </w>': 6, 'w i d est </w>': 3}\n"
          ]
        },
        {
          "output_type": "display_data",
          "data": {
            "text/markdown": "### Iteration 3",
            "text/plain": [
              "<IPython.core.display.Markdown object>"
            ]
          },
          "metadata": {}
        },
        {
          "output_type": "stream",
          "name": "stdout",
          "text": [
            "현재 pair들의 빈도수 : {('l', 'o'): 7, ('o', 'w'): 7, ('w', '</w>'): 5, ('w', 'e'): 2, ('e', 'r'): 2, ('r', '</w'): 2, ('n', 'e'): 6, ('e', 'w'): 6, ('w', 'est'): 6, ('est', '</w>'): 9, ('w', 'i'): 3, ('i', 'd'): 3, ('d', 'est'): 3}\n",
            "est\\ </w>\n",
            "new merge: ('est', '</w>')\n",
            "dictionary: {'l o w </w>': 5, 'l o w e r </w': 2, 'n e w est</w>': 6, 'w i d est</w>': 3}\n"
          ]
        },
        {
          "output_type": "display_data",
          "data": {
            "text/markdown": "### Iteration 4",
            "text/plain": [
              "<IPython.core.display.Markdown object>"
            ]
          },
          "metadata": {}
        },
        {
          "output_type": "stream",
          "name": "stdout",
          "text": [
            "현재 pair들의 빈도수 : {('l', 'o'): 7, ('o', 'w'): 7, ('w', '</w>'): 5, ('w', 'e'): 2, ('e', 'r'): 2, ('r', '</w'): 2, ('n', 'e'): 6, ('e', 'w'): 6, ('w', 'est</w>'): 6, ('w', 'i'): 3, ('i', 'd'): 3, ('d', 'est</w>'): 3}\n",
            "l\\ o\n",
            "new merge: ('l', 'o')\n",
            "dictionary: {'lo w </w>': 5, 'lo w e r </w': 2, 'n e w est</w>': 6, 'w i d est</w>': 3}\n"
          ]
        },
        {
          "output_type": "display_data",
          "data": {
            "text/markdown": "### Iteration 5",
            "text/plain": [
              "<IPython.core.display.Markdown object>"
            ]
          },
          "metadata": {}
        },
        {
          "output_type": "stream",
          "name": "stdout",
          "text": [
            "현재 pair들의 빈도수 : {('lo', 'w'): 7, ('w', '</w>'): 5, ('w', 'e'): 2, ('e', 'r'): 2, ('r', '</w'): 2, ('n', 'e'): 6, ('e', 'w'): 6, ('w', 'est</w>'): 6, ('w', 'i'): 3, ('i', 'd'): 3, ('d', 'est</w>'): 3}\n",
            "lo\\ w\n",
            "new merge: ('lo', 'w')\n",
            "dictionary: {'low </w>': 5, 'low e r </w': 2, 'n e w est</w>': 6, 'w i d est</w>': 3}\n"
          ]
        },
        {
          "output_type": "display_data",
          "data": {
            "text/markdown": "### Iteration 6",
            "text/plain": [
              "<IPython.core.display.Markdown object>"
            ]
          },
          "metadata": {}
        },
        {
          "output_type": "stream",
          "name": "stdout",
          "text": [
            "현재 pair들의 빈도수 : {('low', '</w>'): 5, ('low', 'e'): 2, ('e', 'r'): 2, ('r', '</w'): 2, ('n', 'e'): 6, ('e', 'w'): 6, ('w', 'est</w>'): 6, ('w', 'i'): 3, ('i', 'd'): 3, ('d', 'est</w>'): 3}\n",
            "n\\ e\n",
            "new merge: ('n', 'e')\n",
            "dictionary: {'low </w>': 5, 'low e r </w': 2, 'ne w est</w>': 6, 'w i d est</w>': 3}\n"
          ]
        },
        {
          "output_type": "display_data",
          "data": {
            "text/markdown": "### Iteration 7",
            "text/plain": [
              "<IPython.core.display.Markdown object>"
            ]
          },
          "metadata": {}
        },
        {
          "output_type": "stream",
          "name": "stdout",
          "text": [
            "현재 pair들의 빈도수 : {('low', '</w>'): 5, ('low', 'e'): 2, ('e', 'r'): 2, ('r', '</w'): 2, ('ne', 'w'): 6, ('w', 'est</w>'): 6, ('w', 'i'): 3, ('i', 'd'): 3, ('d', 'est</w>'): 3}\n",
            "ne\\ w\n",
            "new merge: ('ne', 'w')\n",
            "dictionary: {'low </w>': 5, 'low e r </w': 2, 'new est</w>': 6, 'w i d est</w>': 3}\n"
          ]
        },
        {
          "output_type": "display_data",
          "data": {
            "text/markdown": "### Iteration 8",
            "text/plain": [
              "<IPython.core.display.Markdown object>"
            ]
          },
          "metadata": {}
        },
        {
          "output_type": "stream",
          "name": "stdout",
          "text": [
            "현재 pair들의 빈도수 : {('low', '</w>'): 5, ('low', 'e'): 2, ('e', 'r'): 2, ('r', '</w'): 2, ('new', 'est</w>'): 6, ('w', 'i'): 3, ('i', 'd'): 3, ('d', 'est</w>'): 3}\n",
            "new\\ est</w>\n",
            "new merge: ('new', 'est</w>')\n",
            "dictionary: {'low </w>': 5, 'low e r </w': 2, 'newest</w>': 6, 'w i d est</w>': 3}\n"
          ]
        },
        {
          "output_type": "display_data",
          "data": {
            "text/markdown": "### Iteration 9",
            "text/plain": [
              "<IPython.core.display.Markdown object>"
            ]
          },
          "metadata": {}
        },
        {
          "output_type": "stream",
          "name": "stdout",
          "text": [
            "현재 pair들의 빈도수 : {('low', '</w>'): 5, ('low', 'e'): 2, ('e', 'r'): 2, ('r', '</w'): 2, ('w', 'i'): 3, ('i', 'd'): 3, ('d', 'est</w>'): 3}\n",
            "low\\ </w>\n",
            "new merge: ('low', '</w>')\n",
            "dictionary: {'low</w>': 5, 'low e r </w': 2, 'newest</w>': 6, 'w i d est</w>': 3}\n"
          ]
        },
        {
          "output_type": "display_data",
          "data": {
            "text/markdown": "### Iteration 10",
            "text/plain": [
              "<IPython.core.display.Markdown object>"
            ]
          },
          "metadata": {}
        },
        {
          "output_type": "stream",
          "name": "stdout",
          "text": [
            "현재 pair들의 빈도수 : {('low', 'e'): 2, ('e', 'r'): 2, ('r', '</w'): 2, ('w', 'i'): 3, ('i', 'd'): 3, ('d', 'est</w>'): 3}\n",
            "w\\ i\n",
            "new merge: ('w', 'i')\n",
            "dictionary: {'low</w>': 5, 'low e r </w': 2, 'newest</w>': 6, 'wi d est</w>': 3}\n"
          ]
        },
        {
          "output_type": "display_data",
          "data": {
            "text/markdown": "### Iteration 11",
            "text/plain": [
              "<IPython.core.display.Markdown object>"
            ]
          },
          "metadata": {}
        },
        {
          "output_type": "stream",
          "name": "stdout",
          "text": [
            "현재 pair들의 빈도수 : {('low', 'e'): 2, ('e', 'r'): 2, ('r', '</w'): 2, ('wi', 'd'): 3, ('d', 'est</w>'): 3}\n",
            "wi\\ d\n",
            "new merge: ('wi', 'd')\n",
            "dictionary: {'low</w>': 5, 'low e r </w': 2, 'newest</w>': 6, 'wid est</w>': 3}\n"
          ]
        },
        {
          "output_type": "display_data",
          "data": {
            "text/markdown": "### Iteration 12",
            "text/plain": [
              "<IPython.core.display.Markdown object>"
            ]
          },
          "metadata": {}
        },
        {
          "output_type": "stream",
          "name": "stdout",
          "text": [
            "현재 pair들의 빈도수 : {('low', 'e'): 2, ('e', 'r'): 2, ('r', '</w'): 2, ('wid', 'est</w>'): 3}\n",
            "wid\\ est</w>\n",
            "new merge: ('wid', 'est</w>')\n",
            "dictionary: {'low</w>': 5, 'low e r </w': 2, 'newest</w>': 6, 'widest</w>': 3}\n"
          ]
        },
        {
          "output_type": "display_data",
          "data": {
            "text/markdown": "### Iteration 13",
            "text/plain": [
              "<IPython.core.display.Markdown object>"
            ]
          },
          "metadata": {}
        },
        {
          "output_type": "stream",
          "name": "stdout",
          "text": [
            "현재 pair들의 빈도수 : {('low', 'e'): 2, ('e', 'r'): 2, ('r', '</w'): 2}\n",
            "low\\ e\n",
            "new merge: ('low', 'e')\n",
            "dictionary: {'low</w>': 5, 'lowe r </w': 2, 'newest</w>': 6, 'widest</w>': 3}\n"
          ]
        },
        {
          "output_type": "display_data",
          "data": {
            "text/markdown": "### Iteration 14",
            "text/plain": [
              "<IPython.core.display.Markdown object>"
            ]
          },
          "metadata": {}
        },
        {
          "output_type": "stream",
          "name": "stdout",
          "text": [
            "현재 pair들의 빈도수 : {('lowe', 'r'): 2, ('r', '</w'): 2}\n",
            "lowe\\ r\n",
            "new merge: ('lowe', 'r')\n",
            "dictionary: {'low</w>': 5, 'lower </w': 2, 'newest</w>': 6, 'widest</w>': 3}\n"
          ]
        },
        {
          "output_type": "display_data",
          "data": {
            "text/markdown": "### Iteration 15",
            "text/plain": [
              "<IPython.core.display.Markdown object>"
            ]
          },
          "metadata": {}
        },
        {
          "output_type": "stream",
          "name": "stdout",
          "text": [
            "현재 pair들의 빈도수 : {('lower', '</w'): 2}\n",
            "lower\\ </w\n",
            "new merge: ('lower', '</w')\n",
            "dictionary: {'low</w>': 5, 'lower</w': 2, 'newest</w>': 6, 'widest</w>': 3}\n"
          ]
        }
      ]
    },
    {
      "cell_type": "markdown",
      "source": [
        "**이스케이프 처리?**\n",
        "- re.escape(str) </br>\n",
        "re.escape함수는 문자열을 입력받으면 특수문자들을 이스케이프 처리시켜준다.\n",
        "\n",
        "- 이스케이프 처리?</br>\n",
        "쿼리 구문에서 특수 문자가 다르게 작용하기 때문에 이를 이스케이프 처리시켜주어서 특수 문자가 의미를 갖지 않게 만드는 작업\n",
        "\n",
        "\n",
        "- reference: https://www.ibm.com/docs/ko/db2/11.1?topic=characters-escaping-special\n",
        "- reference: https://greeksharifa.github.io/%EC%A0%95%EA%B7%9C%ED%91%9C%ED%98%84%EC%8B%9D(re)/2018/08/24/regex-usage-09-other-functions/"
      ],
      "metadata": {
        "id": "RM7Stw0K-IsV"
      }
    },
    {
      "cell_type": "code",
      "source": [
        "get_count(dictionary)"
      ],
      "metadata": {
        "colab": {
          "base_uri": "https://localhost:8080/"
        },
        "id": "uZwSxeoq7Kze",
        "outputId": "be581a84-17a0-4157-8816-ce06a61c344f"
      },
      "execution_count": null,
      "outputs": [
        {
          "output_type": "stream",
          "name": "stdout",
          "text": [
            "현재 pair들의 빈도수 : {('l', 'o'): 7, ('o', 'w'): 7, ('w', '</w>'): 5, ('w', 'e'): 8, ('e', 'r'): 2, ('r', '</w'): 2, ('n', 'e'): 6, ('e', 'w'): 6, ('e', 's'): 9, ('s', 't'): 9, ('t', '</w>'): 9, ('w', 'i'): 3, ('i', 'd'): 3, ('d', 'e'): 3}\n"
          ]
        },
        {
          "output_type": "execute_result",
          "data": {
            "text/plain": [
              "defaultdict(int,\n",
              "            {('d', 'e'): 3,\n",
              "             ('e', 'r'): 2,\n",
              "             ('e', 's'): 9,\n",
              "             ('e', 'w'): 6,\n",
              "             ('i', 'd'): 3,\n",
              "             ('l', 'o'): 7,\n",
              "             ('n', 'e'): 6,\n",
              "             ('o', 'w'): 7,\n",
              "             ('r', '</w'): 2,\n",
              "             ('s', 't'): 9,\n",
              "             ('t', '</w>'): 9,\n",
              "             ('w', '</w>'): 5,\n",
              "             ('w', 'e'): 8,\n",
              "             ('w', 'i'): 3})"
            ]
          },
          "metadata": {},
          "execution_count": 24
        }
      ]
    },
    {
      "cell_type": "code",
      "source": [
        "# merge 했던 기록들 보기\n",
        "print(bpe_codes)"
      ],
      "metadata": {
        "colab": {
          "base_uri": "https://localhost:8080/"
        },
        "id": "Gk474YLF8moH",
        "outputId": "f932ddde-1f4d-4691-8ec4-af4143122708"
      },
      "execution_count": null,
      "outputs": [
        {
          "output_type": "stream",
          "name": "stdout",
          "text": [
            "{('e', 's'): 0, ('es', 't'): 1, ('est', '</w>'): 2, ('l', 'o'): 3, ('lo', 'w'): 4, ('n', 'e'): 5, ('ne', 'w'): 6, ('new', 'est</w>'): 7, ('low', '</w>'): 8, ('w', 'i'): 9, ('wi', 'd'): 10, ('wid', 'est</w>'): 11, ('low', 'e'): 12, ('lowe', 'r'): 13, ('lower', '</w'): 14}\n"
          ]
        }
      ]
    },
    {
      "cell_type": "markdown",
      "source": [
        "# OOV에 대처하기"
      ],
      "metadata": {
        "id": "BkVhj0yNC1TV"
      }
    },
    {
      "cell_type": "code",
      "source": [
        "def get_pairs(word):\n",
        "  '''\n",
        "  Return set of symbol pairs in a word.\n",
        "  Word is represented as a tuple of symbols.\n",
        "  '''\n",
        "  pairs = set()\n",
        "  prev_char = word[0]\n",
        "  for char in word[1:]:\n",
        "    pairs.add((prev_char, char))\n",
        "    prev_char = char\n",
        "  return pairs\n",
        "\n",
        "def encode(orig):\n",
        "  '''Encode word based on list of BPE merge operations, which are applied consecutively'''\n",
        "  word = tuple(orig) + ('</w>',)\n",
        "  display(Markdown(\"__word split into characters:__<tt>{}</tt>\".format(word)))\n",
        "\n",
        "  pairs = get_pairs(word)\n",
        "\n",
        "  if not pairs:\n",
        "    return orig\n",
        "\n",
        "  iteration = 0\n",
        "  while True:\n",
        "    iteration += 1\n",
        "    display(Markdown(\"__Iteration {}:__\".format(iteration)))\n",
        "\n",
        "    print(\"bigrams in the word: {}\".format(pairs))\n",
        "    bigram = min(pairs, key =  lambda pair: bpe_codes.get(pair, float('inf')))\n",
        "    print(\"candidate for merging: {}\".format(bigram))\n",
        "    if bigram not in bpe_codes:\n",
        "      display(Markdown(\"__Candidate not in BPE merges, algorithm stops.__\"))\n",
        "      break\n",
        "    \n",
        "    fir, sec = bigram\n",
        "    new_word = []\n",
        "    i = 0\n",
        "\n",
        "    while i < len(word):\n",
        "      try:\n",
        "        j = word.index(fir, i)\n",
        "        new_word.extend(word[i:j])\n",
        "        i = j\n",
        "      except:\n",
        "        new_word.extend(word[i:])\n",
        "        break\n",
        "      if word[i] == fir and i < len(word)-1 and word[i+1] == sec:\n",
        "        new_word.append(fir+sec)\n",
        "        i += 2\n",
        "      else:\n",
        "        new_word.append(word[i])\n",
        "        i += 1\n",
        "    new_word = tuple(new_word)\n",
        "    word = new_word\n",
        "    print(\"word after merging: {}\".format(word))\n",
        "\n",
        "    if len(word) == 1:\n",
        "      break\n",
        "    else:\n",
        "      pairs = get_pairs(word)\n",
        "\n",
        "  if word[-1] == '</w>':\n",
        "    word = word[:-1]\n",
        "  elif word[-1].endswith('</w>'):\n",
        "    word = word[:-1] + (word[-1].replace('</w>', ''),)\n",
        "\n",
        "  return word"
      ],
      "metadata": {
        "id": "AE70WdbHCqKs"
      },
      "execution_count": null,
      "outputs": []
    },
    {
      "cell_type": "code",
      "source": [
        "encode(\"loki\")"
      ],
      "metadata": {
        "colab": {
          "base_uri": "https://localhost:8080/",
          "height": 240
        },
        "id": "RFCpo8x9fjXb",
        "outputId": "c6c2b1f1-c834-44c6-d340-284b6c8a5cb1"
      },
      "execution_count": null,
      "outputs": [
        {
          "output_type": "display_data",
          "data": {
            "text/markdown": "__word split into characters:__<tt>('l', 'o', 'k', 'i', '</w>')</tt>",
            "text/plain": [
              "<IPython.core.display.Markdown object>"
            ]
          },
          "metadata": {}
        },
        {
          "output_type": "display_data",
          "data": {
            "text/markdown": "__Iteration 1:__",
            "text/plain": [
              "<IPython.core.display.Markdown object>"
            ]
          },
          "metadata": {}
        },
        {
          "output_type": "stream",
          "name": "stdout",
          "text": [
            "bigrams in the word: {('k', 'i'), ('i', '</w>'), ('l', 'o'), ('o', 'k')}\n",
            "candidate for merging: ('l', 'o')\n",
            "word after merging: ('lo', 'k', 'i', '</w>')\n"
          ]
        },
        {
          "output_type": "display_data",
          "data": {
            "text/markdown": "__Iteration 2:__",
            "text/plain": [
              "<IPython.core.display.Markdown object>"
            ]
          },
          "metadata": {}
        },
        {
          "output_type": "stream",
          "name": "stdout",
          "text": [
            "bigrams in the word: {('k', 'i'), ('i', '</w>'), ('lo', 'k')}\n",
            "candidate for merging: ('k', 'i')\n"
          ]
        },
        {
          "output_type": "display_data",
          "data": {
            "text/markdown": "__Candidate not in BPE merges, algorithm stops.__",
            "text/plain": [
              "<IPython.core.display.Markdown object>"
            ]
          },
          "metadata": {}
        },
        {
          "output_type": "execute_result",
          "data": {
            "text/plain": [
              "('lo', 'k', 'i')"
            ]
          },
          "metadata": {},
          "execution_count": 11
        }
      ]
    },
    {
      "cell_type": "code",
      "source": [
        "encode(\"lowest\")"
      ],
      "metadata": {
        "colab": {
          "base_uri": "https://localhost:8080/",
          "height": 578
        },
        "id": "pvaeRjP4foPH",
        "outputId": "0710efdb-bcdf-4076-803c-9d4b39174567"
      },
      "execution_count": null,
      "outputs": [
        {
          "output_type": "display_data",
          "data": {
            "text/markdown": "__word split into characters:__<tt>('l', 'o', 'w', 'e', 's', 't', '</w>')</tt>",
            "text/plain": [
              "<IPython.core.display.Markdown object>"
            ]
          },
          "metadata": {}
        },
        {
          "output_type": "display_data",
          "data": {
            "text/markdown": "__Iteration 1:__",
            "text/plain": [
              "<IPython.core.display.Markdown object>"
            ]
          },
          "metadata": {}
        },
        {
          "output_type": "stream",
          "name": "stdout",
          "text": [
            "bigrams in the word: {('w', 'e'), ('s', 't'), ('e', 's'), ('t', '</w>'), ('o', 'w'), ('l', 'o')}\n",
            "candidate for merging: ('e', 's')\n",
            "word after merging: ('l', 'o', 'w', 'es', 't', '</w>')\n"
          ]
        },
        {
          "output_type": "display_data",
          "data": {
            "text/markdown": "__Iteration 2:__",
            "text/plain": [
              "<IPython.core.display.Markdown object>"
            ]
          },
          "metadata": {}
        },
        {
          "output_type": "stream",
          "name": "stdout",
          "text": [
            "bigrams in the word: {('es', 't'), ('w', 'es'), ('t', '</w>'), ('o', 'w'), ('l', 'o')}\n",
            "candidate for merging: ('es', 't')\n",
            "word after merging: ('l', 'o', 'w', 'est', '</w>')\n"
          ]
        },
        {
          "output_type": "display_data",
          "data": {
            "text/markdown": "__Iteration 3:__",
            "text/plain": [
              "<IPython.core.display.Markdown object>"
            ]
          },
          "metadata": {}
        },
        {
          "output_type": "stream",
          "name": "stdout",
          "text": [
            "bigrams in the word: {('w', 'est'), ('o', 'w'), ('l', 'o'), ('est', '</w>')}\n",
            "candidate for merging: ('est', '</w>')\n",
            "word after merging: ('l', 'o', 'w', 'est</w>')\n"
          ]
        },
        {
          "output_type": "display_data",
          "data": {
            "text/markdown": "__Iteration 4:__",
            "text/plain": [
              "<IPython.core.display.Markdown object>"
            ]
          },
          "metadata": {}
        },
        {
          "output_type": "stream",
          "name": "stdout",
          "text": [
            "bigrams in the word: {('o', 'w'), ('l', 'o'), ('w', 'est</w>')}\n",
            "candidate for merging: ('l', 'o')\n",
            "word after merging: ('lo', 'w', 'est</w>')\n"
          ]
        },
        {
          "output_type": "display_data",
          "data": {
            "text/markdown": "__Iteration 5:__",
            "text/plain": [
              "<IPython.core.display.Markdown object>"
            ]
          },
          "metadata": {}
        },
        {
          "output_type": "stream",
          "name": "stdout",
          "text": [
            "bigrams in the word: {('lo', 'w'), ('w', 'est</w>')}\n",
            "candidate for merging: ('lo', 'w')\n",
            "word after merging: ('low', 'est</w>')\n"
          ]
        },
        {
          "output_type": "display_data",
          "data": {
            "text/markdown": "__Iteration 6:__",
            "text/plain": [
              "<IPython.core.display.Markdown object>"
            ]
          },
          "metadata": {}
        },
        {
          "output_type": "stream",
          "name": "stdout",
          "text": [
            "bigrams in the word: {('low', 'est</w>')}\n",
            "candidate for merging: ('low', 'est</w>')\n"
          ]
        },
        {
          "output_type": "display_data",
          "data": {
            "text/markdown": "__Candidate not in BPE merges, algorithm stops.__",
            "text/plain": [
              "<IPython.core.display.Markdown object>"
            ]
          },
          "metadata": {}
        },
        {
          "output_type": "execute_result",
          "data": {
            "text/plain": [
              "('low', 'est')"
            ]
          },
          "metadata": {},
          "execution_count": 12
        }
      ]
    },
    {
      "cell_type": "markdown",
      "source": [
        "- reference: https://wikidocs.net/22592"
      ],
      "metadata": {
        "id": "Tb7_9p1JgUAY"
      }
    }
  ]
}